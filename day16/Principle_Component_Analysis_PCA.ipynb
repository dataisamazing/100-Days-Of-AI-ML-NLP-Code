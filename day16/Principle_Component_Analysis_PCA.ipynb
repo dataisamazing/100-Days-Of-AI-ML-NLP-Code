{
  "nbformat": 4,
  "nbformat_minor": 0,
  "metadata": {
    "colab": {
      "name": "Principle Component Analysis-PCA.ipynb",
      "provenance": [],
      "collapsed_sections": []
    },
    "kernelspec": {
      "name": "python3",
      "display_name": "Python 3"
    },
    "language_info": {
      "name": "python"
    }
  },
  "cells": [
    {
      "cell_type": "markdown",
      "source": [
        "<h2><b>Principle Component Analysis(PCA Simple example)</b></h2>"
      ],
      "metadata": {
        "id": "GDHysVCJFUSU"
      }
    },
    {
      "cell_type": "code",
      "source": [
        "import numpy as np\n",
        "import pandas as pd\n",
        "from keras.datasets import mnist\n",
        "\n",
        "#load mnist data\n",
        "d0 = pd.read_csv('/content/mnist_train.csv') \n",
        "# save the labels into a variable l.\n",
        "l = d0['label']"
      ],
      "metadata": {
        "id": "wvGVBmB7E1JB"
      },
      "execution_count": 23,
      "outputs": []
    },
    {
      "cell_type": "code",
      "execution_count": 20,
      "metadata": {
        "id": "vKrvonlU_tBR"
      },
      "outputs": [],
      "source": [
        "# Drop the label feature and store the pixel data in d.\n",
        "d=d0.drop(\"label\",axis=1)\n",
        "# Pick first 15K data-points\n",
        "labels = l.head(15000)\n",
        "data = d.head(15000)\n",
        "# Data-preprocessing: Standardizing the data\n",
        "from sklearn.preprocessing import StandardScaler\n",
        "standardized_data = StandardScaler().fit_transform(data)\n",
        "#find the co-variance matrix which is : A^T * A\n",
        "sample_data = standardized_data\n",
        "covar_matrix = np.matmul(sample_data.T , sample_data)"
      ]
    },
    {
      "cell_type": "code",
      "source": [
        "#finding the top two eigen-values and corresponding eigen-vectors for projecting onto a 2-Dim space\n",
        "from scipy.linalg import eigh\n",
        "values, vectors = eigh(covar_matrix, eigvals=(782,783))\n",
        "vectors = vectors.T\n",
        "#Computing the Principal Components:\n",
        "new_coordinates = np.matmul(vectors, sample_data.T)\n",
        "# appending label to the 2d projected data\n",
        "new_coordinates = np.vstack((new_coordinates, labels)).T\n",
        "#New Dataframe with Reduced dimension\n",
        "dataframe = pd.DataFrame(data=new_coordinates,columns=[\"1st_principal\", \"2nd_principal\", \"label\"])\n",
        "print(dataframe.head())"
      ],
      "metadata": {
        "colab": {
          "base_uri": "https://localhost:8080/"
        },
        "id": "GKwNc_ROFO-E",
        "outputId": "856bec95-ca7f-45b8-c1f7-b80a6c7b1166"
      },
      "execution_count": 21,
      "outputs": [
        {
          "output_type": "stream",
          "name": "stdout",
          "text": [
            "   1st_principal  2nd_principal  label\n",
            "0       3.968187       0.581270    5.0\n",
            "1       4.747773      -8.108914    0.0\n",
            "2      -8.793758      -2.957873    4.0\n",
            "3       2.490548       6.283423    1.0\n",
            "4      -5.289799       4.920536    9.0\n"
          ]
        }
      ]
    }
  ]
}