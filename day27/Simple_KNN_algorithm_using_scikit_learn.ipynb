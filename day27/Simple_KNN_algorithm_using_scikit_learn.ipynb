{
  "cells": [
    {
      "cell_type": "code",
      "execution_count": null,
      "metadata": {
        "id": "C4ELPnQ0JWw7"
      },
      "outputs": [],
      "source": [
        "import numpy as np\n",
        "import pandas as pd\n",
        "import matplotlib.pyplot as plt\n",
        "import seaborn as sns\n",
        "from sklearn.model_selection import train_test_split\n",
        "from sklearn.neighbors import KNeighborsClassifier\n",
        "import warnings\n",
        "warnings.filterwarnings('ignore')"
      ]
    },
    {
      "cell_type": "code",
      "execution_count": null,
      "metadata": {
        "id": "4rJB51qGJWxO"
      },
      "outputs": [],
      "source": [
        "fruits=pd.read_csv(\"fruit_data_with_colors.txt\",sep=\"\\t\",encoding = \"ISO-8859-1\",engine=\"python\")"
      ]
    },
    {
      "cell_type": "code",
      "execution_count": null,
      "metadata": {
        "id": "LS_10O2NJWxR",
        "outputId": "831e6555-b3b5-45e0-d3ce-2e3c74bc9c75"
      },
      "outputs": [
        {
          "data": {
            "text/html": [
              "<div>\n",
              "<style scoped>\n",
              "    .dataframe tbody tr th:only-of-type {\n",
              "        vertical-align: middle;\n",
              "    }\n",
              "\n",
              "    .dataframe tbody tr th {\n",
              "        vertical-align: top;\n",
              "    }\n",
              "\n",
              "    .dataframe thead th {\n",
              "        text-align: right;\n",
              "    }\n",
              "</style>\n",
              "<table border=\"1\" class=\"dataframe\">\n",
              "  <thead>\n",
              "    <tr style=\"text-align: right;\">\n",
              "      <th></th>\n",
              "      <th>fruit_label</th>\n",
              "      <th>fruit_name</th>\n",
              "      <th>fruit_subtype</th>\n",
              "      <th>mass</th>\n",
              "      <th>width</th>\n",
              "      <th>height</th>\n",
              "      <th>color_score</th>\n",
              "    </tr>\n",
              "  </thead>\n",
              "  <tbody>\n",
              "    <tr>\n",
              "      <th>0</th>\n",
              "      <td>1</td>\n",
              "      <td>apple</td>\n",
              "      <td>granny_smith</td>\n",
              "      <td>192</td>\n",
              "      <td>8.4</td>\n",
              "      <td>7.3</td>\n",
              "      <td>0.55</td>\n",
              "    </tr>\n",
              "    <tr>\n",
              "      <th>1</th>\n",
              "      <td>1</td>\n",
              "      <td>apple</td>\n",
              "      <td>granny_smith</td>\n",
              "      <td>180</td>\n",
              "      <td>8.0</td>\n",
              "      <td>6.8</td>\n",
              "      <td>0.59</td>\n",
              "    </tr>\n",
              "    <tr>\n",
              "      <th>2</th>\n",
              "      <td>1</td>\n",
              "      <td>apple</td>\n",
              "      <td>granny_smith</td>\n",
              "      <td>176</td>\n",
              "      <td>7.4</td>\n",
              "      <td>7.2</td>\n",
              "      <td>0.60</td>\n",
              "    </tr>\n",
              "    <tr>\n",
              "      <th>3</th>\n",
              "      <td>2</td>\n",
              "      <td>mandarin</td>\n",
              "      <td>mandarin</td>\n",
              "      <td>86</td>\n",
              "      <td>6.2</td>\n",
              "      <td>4.7</td>\n",
              "      <td>0.80</td>\n",
              "    </tr>\n",
              "    <tr>\n",
              "      <th>4</th>\n",
              "      <td>2</td>\n",
              "      <td>mandarin</td>\n",
              "      <td>mandarin</td>\n",
              "      <td>84</td>\n",
              "      <td>6.0</td>\n",
              "      <td>4.6</td>\n",
              "      <td>0.79</td>\n",
              "    </tr>\n",
              "    <tr>\n",
              "      <th>5</th>\n",
              "      <td>2</td>\n",
              "      <td>mandarin</td>\n",
              "      <td>mandarin</td>\n",
              "      <td>80</td>\n",
              "      <td>5.8</td>\n",
              "      <td>4.3</td>\n",
              "      <td>0.77</td>\n",
              "    </tr>\n",
              "    <tr>\n",
              "      <th>6</th>\n",
              "      <td>2</td>\n",
              "      <td>mandarin</td>\n",
              "      <td>mandarin</td>\n",
              "      <td>80</td>\n",
              "      <td>5.9</td>\n",
              "      <td>4.3</td>\n",
              "      <td>0.81</td>\n",
              "    </tr>\n",
              "    <tr>\n",
              "      <th>7</th>\n",
              "      <td>2</td>\n",
              "      <td>mandarin</td>\n",
              "      <td>mandarin</td>\n",
              "      <td>76</td>\n",
              "      <td>5.8</td>\n",
              "      <td>4.0</td>\n",
              "      <td>0.81</td>\n",
              "    </tr>\n",
              "    <tr>\n",
              "      <th>8</th>\n",
              "      <td>1</td>\n",
              "      <td>apple</td>\n",
              "      <td>braeburn</td>\n",
              "      <td>178</td>\n",
              "      <td>7.1</td>\n",
              "      <td>7.8</td>\n",
              "      <td>0.92</td>\n",
              "    </tr>\n",
              "    <tr>\n",
              "      <th>9</th>\n",
              "      <td>1</td>\n",
              "      <td>apple</td>\n",
              "      <td>braeburn</td>\n",
              "      <td>172</td>\n",
              "      <td>7.4</td>\n",
              "      <td>7.0</td>\n",
              "      <td>0.89</td>\n",
              "    </tr>\n",
              "  </tbody>\n",
              "</table>\n",
              "</div>"
            ],
            "text/plain": [
              "   fruit_label fruit_name fruit_subtype  mass  width  height  color_score\n",
              "0            1      apple  granny_smith   192    8.4     7.3         0.55\n",
              "1            1      apple  granny_smith   180    8.0     6.8         0.59\n",
              "2            1      apple  granny_smith   176    7.4     7.2         0.60\n",
              "3            2   mandarin      mandarin    86    6.2     4.7         0.80\n",
              "4            2   mandarin      mandarin    84    6.0     4.6         0.79\n",
              "5            2   mandarin      mandarin    80    5.8     4.3         0.77\n",
              "6            2   mandarin      mandarin    80    5.9     4.3         0.81\n",
              "7            2   mandarin      mandarin    76    5.8     4.0         0.81\n",
              "8            1      apple      braeburn   178    7.1     7.8         0.92\n",
              "9            1      apple      braeburn   172    7.4     7.0         0.89"
            ]
          },
          "execution_count": 46,
          "metadata": {},
          "output_type": "execute_result"
        }
      ],
      "source": [
        "fruits.head(10)"
      ]
    },
    {
      "cell_type": "code",
      "execution_count": null,
      "metadata": {
        "id": "LG_-5pw-JWxU",
        "outputId": "e60282bc-a32b-42da-b916-11c61c272875"
      },
      "outputs": [
        {
          "data": {
            "text/plain": [
              "{1: 'apple', 2: 'mandarin', 3: 'orange', 4: 'lemon'}"
            ]
          },
          "execution_count": 5,
          "metadata": {},
          "output_type": "execute_result"
        }
      ],
      "source": [
        "target_fruits_name = dict(zip(fruits.fruit_label.unique(),fruits.fruit_name.unique()))\n",
        "target_fruits_name"
      ]
    },
    {
      "cell_type": "code",
      "execution_count": null,
      "metadata": {
        "id": "E3G4lGKuJWxV"
      },
      "outputs": [],
      "source": [
        "X = fruits[['mass', 'width', 'height']]\n",
        "#y is the target variable\n",
        "y = fruits['fruit_label']"
      ]
    },
    {
      "cell_type": "markdown",
      "metadata": {
        "id": "47THWzZPJWxX"
      },
      "source": [
        "### Use train_test_split function to break the data into default 75/25 % train and test data."
      ]
    },
    {
      "cell_type": "code",
      "execution_count": null,
      "metadata": {
        "id": "GzAPxQxoJWxc"
      },
      "outputs": [],
      "source": [
        "X_train, X_test, y_train, y_test = train_test_split(X, y, random_state=0)"
      ]
    },
    {
      "cell_type": "code",
      "execution_count": null,
      "metadata": {
        "id": "5Z1f6ti1JWxf"
      },
      "outputs": [],
      "source": [
        "from sklearn.preprocessing import MinMaxScaler\n",
        "scaler = MinMaxScaler()\n",
        "x_train_scaled = scaler.fit_transform(X_train)\n",
        "x_test_scaled = scaler.transform(X_test)"
      ]
    },
    {
      "cell_type": "markdown",
      "metadata": {
        "id": "uzlwEWXRJWxi"
      },
      "source": [
        "### We then need to create an instance of the classifier object.\n",
        "- In this case a k-NN classifier set the important parameter (in this case the number of neighbors means k)\n",
        "- To a specific value(we’re taking 5) to be used by the classifier. Take n_neighbors or k = 5."
      ]
    },
    {
      "cell_type": "code",
      "execution_count": null,
      "metadata": {
        "id": "fIlMOGYFJWxl",
        "outputId": "6d22c2f4-268b-4cdf-ff98-b5639b830469"
      },
      "outputs": [
        {
          "name": "stdout",
          "output_type": "stream",
          "text": [
            "0.6666666666666666\n"
          ]
        },
        {
          "data": {
            "image/png": "[encoded data removed]",
            "text/plain": [
              "<Figure size 720x288 with 1 Axes>"
            ]
          },
          "metadata": {
            "needs_background": "light"
          },
          "output_type": "display_data"
        }
      ],
      "source": [
        "k = range(1,20)\n",
        "trainingAccuracy = []\n",
        "testAccuracy=[]\n",
        "\n",
        "for i in k:\n",
        "    knn = KNeighborsClassifier(n_neighbors=i)\n",
        "    knn.fit(x_train_scaled,y_train)\n",
        "    trainingacc = knn.score(x_train_scaled,y_train)\n",
        "    trainingAccuracy.append(trainingacc)\n",
        "    testAccuracy.append(knn.score(x_test_scaled,y_test))\n",
        "\n",
        "fig, axes = plt.subplots(nrows=1, ncols=1, figsize=(10,4))\n",
        "plt.xlabel(\"value of K\")\n",
        "plt.ylabel(\"Accuracy of test and training\")\n",
        "plt.title(\"Select best value of k\")\n",
        "plt.plot(k,trainingAccuracy)\n",
        "plt.plot(k,testAccuracy)\n",
        "  #axes[0].legend(['loss','val_loss'])\n",
        "axes.legend([\"Training Accurracy\",\"Test Accuracy\"])\n",
        "print(max(testAccuracy)) # with K value as 4"
      ]
    },
    {
      "cell_type": "code",
      "execution_count": null,
      "metadata": {
        "id": "wDIEGEQGJWxo",
        "outputId": "3e3567dd-4c50-4f1f-db49-1886eb0f4c8c"
      },
      "outputs": [
        {
          "data": {
            "text/plain": [
              "Text(0, 0.5, 'Error Rate')"
            ]
          },
          "execution_count": 12,
          "metadata": {},
          "output_type": "execute_result"
        },
        {
          "data": {
            "image/png": "[encoded data removed]",
            "text/plain": [
              "<Figure size 720x432 with 1 Axes>"
            ]
          },
          "metadata": {
            "needs_background": "light"
          },
          "output_type": "display_data"
        }
      ],
      "source": [
        "error_rate = []\n",
        "\n",
        "# Will take some time\n",
        "for i in range(1,40):\n",
        "    \n",
        "    knn = KNeighborsClassifier(n_neighbors=i)\n",
        "    knn.fit(X_train,y_train)\n",
        "    pred_i = knn.predict(X_test)\n",
        "    error_rate.append(np.mean(pred_i != y_test))\n",
        "    \n",
        "\n",
        "plt.figure(figsize=(10,6))\n",
        "plt.plot(range(1,40),error_rate,color='blue', linestyle='dashed', marker='o',\n",
        "         markerfacecolor='red', markersize=10)\n",
        "plt.title('Error Rate vs. K Value')\n",
        "plt.xlabel('K')\n",
        "plt.ylabel('Error Rate')"
      ]
    },
    {
      "cell_type": "code",
      "execution_count": null,
      "metadata": {
        "id": "O3mOsi1QJWxp",
        "outputId": "5149fdd6-a340-49a9-f283-69f3a237edf9"
      },
      "outputs": [
        {
          "name": "stdout",
          "output_type": "stream",
          "text": [
            "WITH K=11\n",
            "\n",
            "\n",
            "[[3 0 0 1]\n",
            " [0 1 0 0]\n",
            " [3 0 3 2]\n",
            " [0 0 1 1]]\n",
            "\n",
            "\n",
            "              precision    recall  f1-score   support\n",
            "\n",
            "           1       0.50      0.75      0.60         4\n",
            "           2       1.00      1.00      1.00         1\n",
            "           3       0.75      0.38      0.50         8\n",
            "           4       0.25      0.50      0.33         2\n",
            "\n",
            "    accuracy                           0.53        15\n",
            "   macro avg       0.62      0.66      0.61        15\n",
            "weighted avg       0.63      0.53      0.54        15\n",
            "\n"
          ]
        }
      ],
      "source": [
        "from sklearn.metrics import classification_report,confusion_matrix\n",
        "# NOW WITH K=23\n",
        "knn = KNeighborsClassifier(n_neighbors=4)\n",
        "\n",
        "knn.fit(X_train,y_train)\n",
        "pred = knn.predict(X_test)\n",
        "\n",
        "print('WITH K=11')\n",
        "print('\\n')\n",
        "print(confusion_matrix(y_test,pred))\n",
        "print('\\n')\n",
        "print(classification_report(y_test,pred))"
      ]
    },
    {
      "cell_type": "code",
      "execution_count": null,
      "metadata": {
        "id": "J80V6mJTJWxr",
        "outputId": "8aa92448-e0e0-4ab5-844c-3ccfda104557"
      },
      "outputs": [
        {
          "data": {
            "text/plain": [
              "0.6666666666666666"
            ]
          },
          "execution_count": 29,
          "metadata": {},
          "output_type": "execute_result"
        }
      ],
      "source": [
        "# From the above it is quiet evident that when K=4 we get better result\n",
        "\n",
        "knn = KNeighborsClassifier(n_neighbors = 4)\n",
        "knn.fit(x_train_scaled,y_train)\n",
        "\n",
        "knn.score(x_test_scaled,y_test)"
      ]
    },
    {
      "cell_type": "code",
      "execution_count": null,
      "metadata": {
        "id": "vHj3oYJ1JWxt",
        "outputId": "a20da073-f12c-4001-c9f1-18dd892d0a0b"
      },
      "outputs": [
        {
          "data": {
            "text/plain": [
              "'orange'"
            ]
          },
          "execution_count": 30,
          "metadata": {},
          "output_type": "execute_result"
        }
      ],
      "source": [
        "# now if we try to predic the fruit based on it's mass width and height\n",
        "# for example: a small fruit with mass 20g, width 4.3 cm, height 5.5 cm\n",
        "fruit_prediction = knn.predict([[20,4.3,5.5]])\n",
        "target_fruits_name[fruit_prediction[0]]\n",
        "\n",
        "# Another example\n",
        "fruit_prediction = knn.predict([[180,8.0,6.8]])\n",
        "target_fruits_name[fruit_prediction[0]]\n"
      ]
    },
    {
      "cell_type": "code",
      "execution_count": null,
      "metadata": {
        "id": "qEyDEGQ9JWxu"
      },
      "outputs": [],
      "source": [
        ""
      ]
    }
  ],
  "metadata": {
    "kernelspec": {
      "display_name": "Python 3",
      "language": "python",
      "name": "python3"
    },
    "language_info": {
      "codemirror_mode": {
        "name": "ipython",
        "version": 3
      },
      "file_extension": ".py",
      "mimetype": "text/x-python",
      "name": "python",
      "nbconvert_exporter": "python",
      "pygments_lexer": "ipython3",
      "version": "3.8.5"
    },
    "colab": {
      "name": "Simple KNN algorithm using scikit-learn.ipynb",
      "provenance": []
    }
  },
  "nbformat": 4,
  "nbformat_minor": 0
}