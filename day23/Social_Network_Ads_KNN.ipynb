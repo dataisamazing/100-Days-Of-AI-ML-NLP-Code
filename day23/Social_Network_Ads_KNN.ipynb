{
  "nbformat": 4,
  "nbformat_minor": 0,
  "metadata": {
    "colab": {
      "name": "Social Network Ads KNN.ipynb",
      "provenance": [],
      "collapsed_sections": []
    },
    "kernelspec": {
      "name": "python3",
      "display_name": "Python 3"
    },
    "language_info": {
      "name": "python"
    }
  },
  "cells": [
    {
      "cell_type": "markdown",
      "metadata": {
        "id": "mi1Qtw_RXeWG"
      },
      "source": [
        "### Importing Libraries"
      ]
    },
    {
      "cell_type": "code",
      "metadata": {
        "id": "5xIYyzjvhJ__"
      },
      "source": [
        "# Importing libraries\n",
        "\n",
        "import warnings\n",
        "warnings.filterwarnings('ignore')\n",
        "from sklearn.model_selection import cross_val_score\n",
        "from sklearn.model_selection import StratifiedKFold\n",
        "from sklearn.model_selection import GridSearchCV\n",
        "import numpy as np\n",
        "import pandas as pd\n",
        "from sklearn.svm import SVC\n",
        "from sklearn.model_selection import train_test_split\n",
        "from tensorflow.keras.utils import to_categorical\n",
        "import seaborn as sns\n",
        "import matplotlib.pyplot as plt\n",
        "from sklearn.preprocessing import MinMaxScaler\n",
        "from sklearn.neighbors import KNeighborsClassifier\n",
        "from sklearn.neural_network import MLPClassifier\n"
      ],
      "execution_count": null,
      "outputs": []
    },
    {
      "cell_type": "code",
      "metadata": {
        "colab": {
          "base_uri": "https://localhost:8080/",
          "height": 481
        },
        "id": "j-0We0fGh4Ic",
        "outputId": "88b30843-19d6-417b-a9df-aa09707b7ede"
      },
      "source": [
        "df=pd.read_csv('/content/Social_Network_Ads.csv')\n",
        "df.info()\n",
        "\n",
        "df.describe()"
      ],
      "execution_count": null,
      "outputs": [
        {
          "output_type": "stream",
          "text": [
            "<class 'pandas.core.frame.DataFrame'>\n",
            "RangeIndex: 400 entries, 0 to 399\n",
            "Data columns (total 3 columns):\n",
            " #   Column           Non-Null Count  Dtype\n",
            "---  ------           --------------  -----\n",
            " 0   Age              400 non-null    int64\n",
            " 1   EstimatedSalary  400 non-null    int64\n",
            " 2   Purchased        400 non-null    int64\n",
            "dtypes: int64(3)\n",
            "memory usage: 9.5 KB\n"
          ],
          "name": "stdout"
        },
        {
          "output_type": "execute_result",
          "data": {
            "text/html": [
              "<div>\n",
              "<style scoped>\n",
              "    .dataframe tbody tr th:only-of-type {\n",
              "        vertical-align: middle;\n",
              "    }\n",
              "\n",
              "    .dataframe tbody tr th {\n",
              "        vertical-align: top;\n",
              "    }\n",
              "\n",
              "    .dataframe thead th {\n",
              "        text-align: right;\n",
              "    }\n",
              "</style>\n",
              "<table border=\"1\" class=\"dataframe\">\n",
              "  <thead>\n",
              "    <tr style=\"text-align: right;\">\n",
              "      <th></th>\n",
              "      <th>Age</th>\n",
              "      <th>EstimatedSalary</th>\n",
              "      <th>Purchased</th>\n",
              "    </tr>\n",
              "  </thead>\n",
              "  <tbody>\n",
              "    <tr>\n",
              "      <th>count</th>\n",
              "      <td>400.000000</td>\n",
              "      <td>400.000000</td>\n",
              "      <td>400.000000</td>\n",
              "    </tr>\n",
              "    <tr>\n",
              "      <th>mean</th>\n",
              "      <td>37.655000</td>\n",
              "      <td>69742.500000</td>\n",
              "      <td>0.357500</td>\n",
              "    </tr>\n",
              "    <tr>\n",
              "      <th>std</th>\n",
              "      <td>10.482877</td>\n",
              "      <td>34096.960282</td>\n",
              "      <td>0.479864</td>\n",
              "    </tr>\n",
              "    <tr>\n",
              "      <th>min</th>\n",
              "      <td>18.000000</td>\n",
              "      <td>15000.000000</td>\n",
              "      <td>0.000000</td>\n",
              "    </tr>\n",
              "    <tr>\n",
              "      <th>25%</th>\n",
              "      <td>29.750000</td>\n",
              "      <td>43000.000000</td>\n",
              "      <td>0.000000</td>\n",
              "    </tr>\n",
              "    <tr>\n",
              "      <th>50%</th>\n",
              "      <td>37.000000</td>\n",
              "      <td>70000.000000</td>\n",
              "      <td>0.000000</td>\n",
              "    </tr>\n",
              "    <tr>\n",
              "      <th>75%</th>\n",
              "      <td>46.000000</td>\n",
              "      <td>88000.000000</td>\n",
              "      <td>1.000000</td>\n",
              "    </tr>\n",
              "    <tr>\n",
              "      <th>max</th>\n",
              "      <td>60.000000</td>\n",
              "      <td>150000.000000</td>\n",
              "      <td>1.000000</td>\n",
              "    </tr>\n",
              "  </tbody>\n",
              "</table>\n",
              "</div>"
            ],
            "text/plain": [
              "              Age  EstimatedSalary   Purchased\n",
              "count  400.000000       400.000000  400.000000\n",
              "mean    37.655000     69742.500000    0.357500\n",
              "std     10.482877     34096.960282    0.479864\n",
              "min     18.000000     15000.000000    0.000000\n",
              "25%     29.750000     43000.000000    0.000000\n",
              "50%     37.000000     70000.000000    0.000000\n",
              "75%     46.000000     88000.000000    1.000000\n",
              "max     60.000000    150000.000000    1.000000"
            ]
          },
          "metadata": {
            "tags": []
          },
          "execution_count": 2
        }
      ]
    },
    {
      "cell_type": "markdown",
      "metadata": {
        "id": "0dv8LRD1ibQS"
      },
      "source": [
        "#### Checking the Coorelation"
      ]
    },
    {
      "cell_type": "code",
      "metadata": {
        "colab": {
          "base_uri": "https://localhost:8080/",
          "height": 269
        },
        "id": "tZLJY6EXihJB",
        "outputId": "6ed090ec-777b-44ec-c2b5-7788e65b8df8"
      },
      "source": [
        "sns.heatmap(df.corr(), cmap=\"YlGnBu\", annot = True)\n",
        "plt.show()"
      ],
      "execution_count": null,
      "outputs": [
        {
          "output_type": "display_data",
          "data": {
            "image/png": "[encoded data removed]",
            "text/plain": [
              "<Figure size 432x288 with 2 Axes>"
            ]
          },
          "metadata": {
            "tags": [],
            "needs_background": "light"
          }
        }
      ]
    },
    {
      "cell_type": "markdown",
      "metadata": {
        "id": "sZenIcm_jfah"
      },
      "source": [
        "### Checking the Correlation on the Target variable using barchart"
      ]
    },
    {
      "cell_type": "code",
      "metadata": {
        "colab": {
          "base_uri": "https://localhost:8080/",
          "height": 442
        },
        "id": "v0unA-32i35U",
        "outputId": "fc44933d-780a-40af-f22f-2ad0404e87ae"
      },
      "source": [
        "plt.figure(figsize=(25,10))\n",
        "df.corr()['Purchased'].sort_values(ascending = False).plot(kind='bar')\n",
        "plt.show()"
      ],
      "execution_count": null,
      "outputs": [
        {
          "output_type": "display_data",
          "data": {
            "image/png": "[encoded data removed]",
            "text/plain": [
              "<Figure size 1800x720 with 1 Axes>"
            ]
          },
          "metadata": {
            "tags": [],
            "needs_background": "light"
          }
        }
      ]
    },
    {
      "cell_type": "code",
      "metadata": {
        "colab": {
          "base_uri": "https://localhost:8080/",
          "height": 1000
        },
        "id": "Qh7Gpx_lj5Ma",
        "outputId": "22479a8d-e9ae-4ca2-f1e4-29a9f75fe127"
      },
      "source": [
        "age_bins = range(15,75,5)\n",
        "medians_by_age_group = df.groupby([\"Purchased\",pd.cut(df['Age'], age_bins)]).median()\n",
        "medians_by_age_group\n",
        "\n",
        "medians_by_age_group.index = medians_by_age_group.index.set_names(['Purchased', 'Age_group'])\n",
        "medians_by_age_group.reset_index(inplace=True)\n",
        "\n",
        "fig, ax = plt.subplots(figsize=(12,5))\n",
        "sns.barplot(x='Age_group', y='EstimatedSalary',hue=\"Purchased\", data=medians_by_age_group,\n",
        "            palette=['#cc66ff','#0066ff'],\n",
        "            alpha=0.7,edgecolor='k',\n",
        "            ax=ax)\n",
        "ax.set_title('Median estimated salary of customers based on Age who purchased or not')\n",
        "ax.set_xlabel('Age group')\n",
        "plt.show()\n",
        "\n",
        "medians_by_age_group"
      ],
      "execution_count": null,
      "outputs": [
        {
          "output_type": "display_data",
          "data": {
            "image/png": "[encoded data removed]",
            "text/plain": [
              "<Figure size 864x360 with 1 Axes>"
            ]
          },
          "metadata": {
            "tags": [],
            "needs_background": "light"
          }
        },
        {
          "output_type": "execute_result",
          "data": {
            "text/html": [
              "<div>\n",
              "<style scoped>\n",
              "    .dataframe tbody tr th:only-of-type {\n",
              "        vertical-align: middle;\n",
              "    }\n",
              "\n",
              "    .dataframe tbody tr th {\n",
              "        vertical-align: top;\n",
              "    }\n",
              "\n",
              "    .dataframe thead th {\n",
              "        text-align: right;\n",
              "    }\n",
              "</style>\n",
              "<table border=\"1\" class=\"dataframe\">\n",
              "  <thead>\n",
              "    <tr style=\"text-align: right;\">\n",
              "      <th></th>\n",
              "      <th>Purchased</th>\n",
              "      <th>Age_group</th>\n",
              "      <th>Age</th>\n",
              "      <th>EstimatedSalary</th>\n",
              "    </tr>\n",
              "  </thead>\n",
              "  <tbody>\n",
              "    <tr>\n",
              "      <th>0</th>\n",
              "      <td>0</td>\n",
              "      <td>(15, 20]</td>\n",
              "      <td>19.0</td>\n",
              "      <td>68000.0</td>\n",
              "    </tr>\n",
              "    <tr>\n",
              "      <th>1</th>\n",
              "      <td>0</td>\n",
              "      <td>(20, 25]</td>\n",
              "      <td>23.5</td>\n",
              "      <td>56500.0</td>\n",
              "    </tr>\n",
              "    <tr>\n",
              "      <th>2</th>\n",
              "      <td>0</td>\n",
              "      <td>(25, 30]</td>\n",
              "      <td>28.0</td>\n",
              "      <td>59000.0</td>\n",
              "    </tr>\n",
              "    <tr>\n",
              "      <th>3</th>\n",
              "      <td>0</td>\n",
              "      <td>(30, 35]</td>\n",
              "      <td>35.0</td>\n",
              "      <td>58000.0</td>\n",
              "    </tr>\n",
              "    <tr>\n",
              "      <th>4</th>\n",
              "      <td>0</td>\n",
              "      <td>(35, 40]</td>\n",
              "      <td>38.0</td>\n",
              "      <td>61000.0</td>\n",
              "    </tr>\n",
              "    <tr>\n",
              "      <th>5</th>\n",
              "      <td>0</td>\n",
              "      <td>(40, 45]</td>\n",
              "      <td>41.0</td>\n",
              "      <td>65000.0</td>\n",
              "    </tr>\n",
              "    <tr>\n",
              "      <th>6</th>\n",
              "      <td>0</td>\n",
              "      <td>(45, 50]</td>\n",
              "      <td>47.0</td>\n",
              "      <td>65000.0</td>\n",
              "    </tr>\n",
              "    <tr>\n",
              "      <th>7</th>\n",
              "      <td>0</td>\n",
              "      <td>(50, 55]</td>\n",
              "      <td>51.5</td>\n",
              "      <td>124000.0</td>\n",
              "    </tr>\n",
              "    <tr>\n",
              "      <th>8</th>\n",
              "      <td>0</td>\n",
              "      <td>(55, 60]</td>\n",
              "      <td>59.0</td>\n",
              "      <td>62500.0</td>\n",
              "    </tr>\n",
              "    <tr>\n",
              "      <th>9</th>\n",
              "      <td>0</td>\n",
              "      <td>(60, 65]</td>\n",
              "      <td>NaN</td>\n",
              "      <td>NaN</td>\n",
              "    </tr>\n",
              "    <tr>\n",
              "      <th>10</th>\n",
              "      <td>0</td>\n",
              "      <td>(65, 70]</td>\n",
              "      <td>NaN</td>\n",
              "      <td>NaN</td>\n",
              "    </tr>\n",
              "    <tr>\n",
              "      <th>11</th>\n",
              "      <td>1</td>\n",
              "      <td>(15, 20]</td>\n",
              "      <td>NaN</td>\n",
              "      <td>NaN</td>\n",
              "    </tr>\n",
              "    <tr>\n",
              "      <th>12</th>\n",
              "      <td>1</td>\n",
              "      <td>(20, 25]</td>\n",
              "      <td>NaN</td>\n",
              "      <td>NaN</td>\n",
              "    </tr>\n",
              "    <tr>\n",
              "      <th>13</th>\n",
              "      <td>1</td>\n",
              "      <td>(25, 30]</td>\n",
              "      <td>28.5</td>\n",
              "      <td>129000.0</td>\n",
              "    </tr>\n",
              "    <tr>\n",
              "      <th>14</th>\n",
              "      <td>1</td>\n",
              "      <td>(30, 35]</td>\n",
              "      <td>32.0</td>\n",
              "      <td>118000.0</td>\n",
              "    </tr>\n",
              "    <tr>\n",
              "      <th>15</th>\n",
              "      <td>1</td>\n",
              "      <td>(35, 40]</td>\n",
              "      <td>37.0</td>\n",
              "      <td>115500.0</td>\n",
              "    </tr>\n",
              "    <tr>\n",
              "      <th>16</th>\n",
              "      <td>1</td>\n",
              "      <td>(40, 45]</td>\n",
              "      <td>43.0</td>\n",
              "      <td>88500.0</td>\n",
              "    </tr>\n",
              "    <tr>\n",
              "      <th>17</th>\n",
              "      <td>1</td>\n",
              "      <td>(45, 50]</td>\n",
              "      <td>48.0</td>\n",
              "      <td>49000.0</td>\n",
              "    </tr>\n",
              "    <tr>\n",
              "      <th>18</th>\n",
              "      <td>1</td>\n",
              "      <td>(50, 55]</td>\n",
              "      <td>53.0</td>\n",
              "      <td>90000.0</td>\n",
              "    </tr>\n",
              "    <tr>\n",
              "      <th>19</th>\n",
              "      <td>1</td>\n",
              "      <td>(55, 60]</td>\n",
              "      <td>58.0</td>\n",
              "      <td>75000.0</td>\n",
              "    </tr>\n",
              "    <tr>\n",
              "      <th>20</th>\n",
              "      <td>1</td>\n",
              "      <td>(60, 65]</td>\n",
              "      <td>NaN</td>\n",
              "      <td>NaN</td>\n",
              "    </tr>\n",
              "    <tr>\n",
              "      <th>21</th>\n",
              "      <td>1</td>\n",
              "      <td>(65, 70]</td>\n",
              "      <td>NaN</td>\n",
              "      <td>NaN</td>\n",
              "    </tr>\n",
              "  </tbody>\n",
              "</table>\n",
              "</div>"
            ],
            "text/plain": [
              "    Purchased Age_group   Age  EstimatedSalary\n",
              "0           0  (15, 20]  19.0          68000.0\n",
              "1           0  (20, 25]  23.5          56500.0\n",
              "2           0  (25, 30]  28.0          59000.0\n",
              "3           0  (30, 35]  35.0          58000.0\n",
              "4           0  (35, 40]  38.0          61000.0\n",
              "5           0  (40, 45]  41.0          65000.0\n",
              "6           0  (45, 50]  47.0          65000.0\n",
              "7           0  (50, 55]  51.5         124000.0\n",
              "8           0  (55, 60]  59.0          62500.0\n",
              "9           0  (60, 65]   NaN              NaN\n",
              "10          0  (65, 70]   NaN              NaN\n",
              "11          1  (15, 20]   NaN              NaN\n",
              "12          1  (20, 25]   NaN              NaN\n",
              "13          1  (25, 30]  28.5         129000.0\n",
              "14          1  (30, 35]  32.0         118000.0\n",
              "15          1  (35, 40]  37.0         115500.0\n",
              "16          1  (40, 45]  43.0          88500.0\n",
              "17          1  (45, 50]  48.0          49000.0\n",
              "18          1  (50, 55]  53.0          90000.0\n",
              "19          1  (55, 60]  58.0          75000.0\n",
              "20          1  (60, 65]   NaN              NaN\n",
              "21          1  (65, 70]   NaN              NaN"
            ]
          },
          "metadata": {
            "tags": []
          },
          "execution_count": 88
        }
      ]
    },
    {
      "cell_type": "code",
      "metadata": {
        "colab": {
          "base_uri": "https://localhost:8080/",
          "height": 497
        },
        "id": "grYqs2ypm71K",
        "outputId": "83f1d0ae-6016-4eeb-8163-8fa91b29b099"
      },
      "source": [
        "plt.figure(figsize = (12,8))\n",
        "plt.grid(True)\n",
        "ax = sns.countplot(x='Purchased', data=df, palette='Spectral_r')\n",
        "for p in ax.patches:\n",
        "        ax.annotate('{:.0f}'.format(p.get_height()), (p.get_x()+0.3, p.get_height()+0.5))"
      ],
      "execution_count": null,
      "outputs": [
        {
          "output_type": "display_data",
          "data": {
            "image/png": "[encoded data removed]",
            "text/plain": [
              "<Figure size 864x576 with 1 Axes>"
            ]
          },
          "metadata": {
            "tags": [],
            "needs_background": "light"
          }
        }
      ]
    },
    {
      "cell_type": "code",
      "metadata": {
        "id": "MFsX6HSPj4l4"
      },
      "source": [
        "X=df.iloc[:,0:-1]\n",
        "y=df.iloc[:,-1]\n",
        "\n",
        "scaler = MinMaxScaler()\n",
        "X = pd.DataFrame(scaler.fit_transform(X), columns=X.columns)\n",
        "\n"
      ],
      "execution_count": null,
      "outputs": []
    },
    {
      "cell_type": "markdown",
      "metadata": {
        "id": "Q6zxWitknRBo"
      },
      "source": [
        "## Support Vector machine"
      ]
    },
    {
      "cell_type": "code",
      "metadata": {
        "colab": {
          "base_uri": "https://localhost:8080/",
          "height": 54
        },
        "id": "0OCU4gpDnMep",
        "outputId": "469a38db-492b-4336-dc7c-1a6b61feed78"
      },
      "source": [
        "X_train,X_test,y_train,y_test=train_test_split(X,y,test_size=.3,random_state=2,stratify=y)\n",
        "model=SVC()\n",
        "model.fit(X_train,y_train)\n",
        "print(f' Training Accuracy {model.score(X_train,y_train)}')\n",
        "f'Test Accuracy {model.score(X_test,y_test)}'"
      ],
      "execution_count": null,
      "outputs": [
        {
          "output_type": "stream",
          "text": [
            " Training Accuracy 0.9142857142857143\n"
          ],
          "name": "stdout"
        },
        {
          "output_type": "execute_result",
          "data": {
            "application/vnd.google.colaboratory.intrinsic+json": {
              "type": "string"
            },
            "text/plain": [
              "'Test Accuracy 0.9083333333333333'"
            ]
          },
          "metadata": {
            "tags": []
          },
          "execution_count": 4
        }
      ]
    },
    {
      "cell_type": "markdown",
      "metadata": {
        "id": "3pkC0H2cnkQu"
      },
      "source": [
        "## KNN Model"
      ]
    },
    {
      "cell_type": "code",
      "metadata": {
        "colab": {
          "base_uri": "https://localhost:8080/",
          "height": 313
        },
        "id": "VOaMfAG4nMbL",
        "outputId": "3a02dc45-f3e5-410b-b8bb-f68105e6c911"
      },
      "source": [
        "k = range(1,20)\n",
        "trainingAccuracy = []\n",
        "testAccuracy=[]\n",
        "for i in k:\n",
        "    knn = KNeighborsClassifier(n_neighbors=i,n_jobs=15,p=1,weights='distance')\n",
        "    knn.fit(X_train,y_train)\n",
        "    trainingacc = knn.score(X_train,y_train)\n",
        "    trainingAccuracy.append(trainingacc)\n",
        "    testAccuracy.append(knn.score(X_test,y_test))\n",
        "\n",
        "fig, axes = plt.subplots(nrows=1, ncols=1, figsize=(10,4))\n",
        "plt.xlabel(\"value of K\")\n",
        "plt.ylabel(\"Accuracy of test and training\")\n",
        "plt.title(\"Select best value of k\")\n",
        "plt.plot(k,trainingAccuracy)\n",
        "plt.plot(k,testAccuracy)\n",
        "  #axes[0].legend(['loss','val_loss'])\n",
        "axes.legend([\"Training Accurracy\",\"Test Accuracy\"])\n",
        "print(max(testAccuracy))"
      ],
      "execution_count": null,
      "outputs": [
        {
          "output_type": "stream",
          "text": [
            "0.9083333333333333\n"
          ],
          "name": "stdout"
        },
        {
          "output_type": "display_data",
          "data": {
            "image/png": "[encoded data removed]",
            "text/plain": [
              "<Figure size 720x288 with 1 Axes>"
            ]
          },
          "metadata": {
            "tags": [],
            "needs_background": "light"
          }
        }
      ]
    },
    {
      "cell_type": "code",
      "metadata": {
        "colab": {
          "base_uri": "https://localhost:8080/",
          "height": 145
        },
        "id": "9E1KAkmGnMYr",
        "outputId": "3bba201c-97b5-4f22-8443-d4d9adb93102"
      },
      "source": [
        "k_range = list(range(1,50))\n",
        "weight_options = [\"uniform\", \"distance\"]\n",
        "pe=[1,2]\n",
        "\n",
        "param_grid = dict(n_neighbors = k_range, weights = weight_options,p=pe)\n",
        "knn = KNeighborsClassifier()\n",
        "\n",
        "knngrid = GridSearchCV(knn, param_grid, cv = 10, scoring = 'accuracy',n_jobs=15)\n",
        "knngrid.fit(X_train,y_train)\n",
        "\n",
        "print (\"Best score on 10 folds split Data on Train split:- \",knngrid.best_score_)\n",
        "print (\"Best Param:- \",knngrid.best_params_)\n",
        "print (\"Best KNN Metric:- \", knngrid.best_estimator_)\n",
        "\n",
        "print(f' Training Accuracy {knngrid.score(X_train,y_train)}')\n",
        "f'Test Accuracy {knngrid.score(X_test,y_test)}'"
      ],
      "execution_count": null,
      "outputs": [
        {
          "output_type": "stream",
          "text": [
            "Best score on 10 folds split Data on Train split:-  0.9142857142857144\n",
            "Best Param:-  {'n_neighbors': 3, 'p': 2, 'weights': 'uniform'}\n",
            "Best KNN Metric:-  KNeighborsClassifier(algorithm='auto', leaf_size=30, metric='minkowski',\n",
            "                     metric_params=None, n_jobs=None, n_neighbors=3, p=2,\n",
            "                     weights='uniform')\n",
            " Training Accuracy 0.9357142857142857\n"
          ],
          "name": "stdout"
        },
        {
          "output_type": "execute_result",
          "data": {
            "application/vnd.google.colaboratory.intrinsic+json": {
              "type": "string"
            },
            "text/plain": [
              "'Test Accuracy 0.9'"
            ]
          },
          "metadata": {
            "tags": []
          },
          "execution_count": 7
        }
      ]
    },
    {
      "cell_type": "code",
      "metadata": {
        "colab": {
          "base_uri": "https://localhost:8080/",
          "height": 460
        },
        "id": "nmAvtba3nMUS",
        "outputId": "eca18785-fdea-4b17-8ce6-c699dee49072"
      },
      "source": [
        "y_predicted = knn_model.predict(X_test)\n",
        "from sklearn.metrics import confusion_matrix\n",
        "cm = confusion_matrix(y_test, y_predicted)\n",
        "import seaborn as sn\n",
        "plt.figure(figsize = (10,7))\n",
        "sn.heatmap(cm, annot=True,fmt='g')\n",
        "plt.xlabel('Predicted')\n",
        "plt.ylabel('Truth')"
      ],
      "execution_count": null,
      "outputs": [
        {
          "output_type": "execute_result",
          "data": {
            "text/plain": [
              "Text(69.0, 0.5, 'Truth')"
            ]
          },
          "metadata": {
            "tags": []
          },
          "execution_count": 29
        },
        {
          "output_type": "display_data",
          "data": {
            "image/png": "[encoded data removed]",
            "text/plain": [
              "<Figure size 720x504 with 2 Axes>"
            ]
          },
          "metadata": {
            "tags": [],
            "needs_background": "light"
          }
        }
      ]
    },
    {
      "cell_type": "code",
      "metadata": {
        "colab": {
          "base_uri": "https://localhost:8080/",
          "height": 54
        },
        "id": "91beOa1xySzv",
        "outputId": "b12b9905-8fa8-481c-a9dd-9a8e0aadbe84"
      },
      "source": [
        "from sklearn.neighbors import KNeighborsClassifier\n",
        "knn_model=KNeighborsClassifier(n_jobs=15,n_neighbors=15,p=1,weights='distance')\n",
        "knn_model.fit(X_train,y_train)\n",
        "print(f' Training Accuracy {knn_model.score(X_train,y_train)}')\n",
        "f' Testing Accuracy {knn_model.score(X_test,y_test)}'"
      ],
      "execution_count": null,
      "outputs": [
        {
          "output_type": "stream",
          "text": [
            " Training Accuracy 0.9928571428571429\n"
          ],
          "name": "stdout"
        },
        {
          "output_type": "execute_result",
          "data": {
            "application/vnd.google.colaboratory.intrinsic+json": {
              "type": "string"
            },
            "text/plain": [
              "' Testing Accuracy 0.9083333333333333'"
            ]
          },
          "metadata": {
            "tags": []
          },
          "execution_count": 18
        }
      ]
    },
    {
      "cell_type": "code",
      "metadata": {
        "colab": {
          "base_uri": "https://localhost:8080/",
          "height": 351
        },
        "id": "VsGQbwNonMM_",
        "outputId": "8da96816-29d9-4cbd-89c4-810754e5b6fc"
      },
      "source": [
        "from matplotlib.colors import ListedColormap\n",
        "X_set, y_set = scaler.inverse_transform(X_train), y_train\n",
        "X1, X2 = np.meshgrid(np.arange(start = X_set[:, 0].min() - 10, stop = X_set[:, 0].max() + 10, step = 1),\n",
        "                     np.arange(start = X_set[:, 1].min() - 1000, stop = X_set[:, 1].max() + 1000, step = 1))\n",
        "plt.contourf(X1, X2, knn_model.predict(scaler.transform(np.array([X1.ravel(), X2.ravel()]).T)).reshape(X1.shape),\n",
        "             alpha = 0.75, cmap = ListedColormap(('red', 'green')))\n",
        "plt.xlim(X1.min(), X1.max())\n",
        "plt.ylim(X2.min(), X2.max())\n",
        "for i, j in enumerate(np.unique(y_set)):\n",
        "    plt.scatter(X_set[y_set == j, 0], X_set[y_set == j, 1], c = ListedColormap(('red', 'green'))(i), label = j)\n",
        "plt.title('K-NN (Training set)')\n",
        "plt.xlabel('Age')\n",
        "plt.ylabel('Estimated Salary')\n",
        "plt.legend()\n",
        "plt.show()\n"
      ],
      "execution_count": null,
      "outputs": [
        {
          "output_type": "stream",
          "text": [
            "*c* argument looks like a single numeric RGB or RGBA sequence, which should be avoided as value-mapping will have precedence in case its length matches with *x* & *y*.  Please use the *color* keyword-argument or provide a 2-D array with a single row if you intend to specify the same RGB or RGBA value for all points.\n",
            "*c* argument looks like a single numeric RGB or RGBA sequence, which should be avoided as value-mapping will have precedence in case its length matches with *x* & *y*.  Please use the *color* keyword-argument or provide a 2-D array with a single row if you intend to specify the same RGB or RGBA value for all points.\n"
          ],
          "name": "stderr"
        },
        {
          "output_type": "display_data",
          "data": {
            "image/png": "[encoded data removed]",
            "text/plain": [
              "<Figure size 432x288 with 1 Axes>"
            ]
          },
          "metadata": {
            "tags": [],
            "needs_background": "light"
          }
        }
      ]
    },
    {
      "cell_type": "code",
      "metadata": {
        "id": "xHgl5KflnMAQ",
        "colab": {
          "base_uri": "https://localhost:8080/",
          "height": 351
        },
        "outputId": "3840c425-9f3a-4c23-bfa0-c3a28a87b5a1"
      },
      "source": [
        "from matplotlib.colors import ListedColormap\n",
        "X_set, y_set = scaler.inverse_transform(X_test), y_test\n",
        "X1, X2 = np.meshgrid(np.arange(start = X_set[:, 0].min() - 10, stop = X_set[:, 0].max() + 10, step = 1),\n",
        "                     np.arange(start = X_set[:, 1].min() - 1000, stop = X_set[:, 1].max() + 1000, step = 1))\n",
        "plt.contourf(X1, X2, knn_model.predict(scaler.transform(np.array([X1.ravel(), X2.ravel()]).T)).reshape(X1.shape),\n",
        "             alpha = 0.75, cmap = ListedColormap(('red', 'green')))\n",
        "plt.xlim(X1.min(), X1.max())\n",
        "plt.ylim(X2.min(), X2.max())\n",
        "for i, j in enumerate(np.unique(y_set)):\n",
        "    plt.scatter(X_set[y_set == j, 0], X_set[y_set == j, 1], c = ListedColormap(('red', 'green'))(i), label = j)\n",
        "plt.title('K-NN (Test set)')\n",
        "plt.xlabel('Age')\n",
        "plt.ylabel('Estimated Salary')\n",
        "plt.legend()\n",
        "plt.show()"
      ],
      "execution_count": null,
      "outputs": [
        {
          "output_type": "stream",
          "text": [
            "*c* argument looks like a single numeric RGB or RGBA sequence, which should be avoided as value-mapping will have precedence in case its length matches with *x* & *y*.  Please use the *color* keyword-argument or provide a 2-D array with a single row if you intend to specify the same RGB or RGBA value for all points.\n",
            "*c* argument looks like a single numeric RGB or RGBA sequence, which should be avoided as value-mapping will have precedence in case its length matches with *x* & *y*.  Please use the *color* keyword-argument or provide a 2-D array with a single row if you intend to specify the same RGB or RGBA value for all points.\n"
          ],
          "name": "stderr"
        },
        {
          "output_type": "display_data",
          "data": {
            "image/png": "[encoded data removed]",
            "text/plain": [
              "<Figure size 432x288 with 1 Axes>"
            ]
          },
          "metadata": {
            "tags": [],
            "needs_background": "light"
          }
        }
      ]
    },
    {
      "cell_type": "markdown",
      "metadata": {
        "id": "BeXzlSSO1z0U"
      },
      "source": [
        "## Logistic Regression"
      ]
    },
    {
      "cell_type": "code",
      "metadata": {
        "colab": {
          "base_uri": "https://localhost:8080/",
          "height": 54
        },
        "id": "OVl2l0mz1t16",
        "outputId": "42ff05f4-79dc-4c68-818f-fff077391387"
      },
      "source": [
        "from sklearn.linear_model import LogisticRegression\n",
        "log_model = LogisticRegression(solver='lbfgs', max_iter=1000)\n",
        "\n",
        "log_model.fit(X_train, y_train)\n",
        "\n",
        "print(f' Training Accuracy {log_model.score(X_train,y_train)}')\n",
        "f'Test Accuracy {log_model.score(X_test,y_test)}'"
      ],
      "execution_count": null,
      "outputs": [
        {
          "output_type": "stream",
          "text": [
            " Training Accuracy 0.8142857142857143\n"
          ],
          "name": "stdout"
        },
        {
          "output_type": "execute_result",
          "data": {
            "application/vnd.google.colaboratory.intrinsic+json": {
              "type": "string"
            },
            "text/plain": [
              "'Test Accuracy 0.8416666666666667'"
            ]
          },
          "metadata": {
            "tags": []
          },
          "execution_count": 31
        }
      ]
    },
    {
      "cell_type": "markdown",
      "metadata": {
        "id": "ypWqnjtY4ur8"
      },
      "source": [
        "## Neural Network"
      ]
    },
    {
      "cell_type": "code",
      "metadata": {
        "colab": {
          "base_uri": "https://localhost:8080/",
          "height": 126
        },
        "id": "TQIyj3CK1tDZ",
        "outputId": "e8f2e5b7-b195-46f5-9c01-24d9aa9d9674"
      },
      "source": [
        "import warnings\n",
        "warnings.filterwarnings('ignore')\n",
        "from sklearn.model_selection import cross_val_score\n",
        "from sklearn.model_selection import StratifiedKFold\n",
        "\n",
        "\n",
        "from sklearn.model_selection import GridSearchCV\n",
        "folds = StratifiedKFold(n_splits=5, shuffle=True, random_state=4)\n",
        "\n",
        "param_grid = [\n",
        "        {\n",
        "            'activation' : ['identity', 'logistic', 'tanh', 'relu'],\n",
        "            'solver' : ['lbfgs', 'sgd', 'adam'],            \n",
        "        }\n",
        "       ]\n",
        "clf = GridSearchCV(MLPClassifier(), param_grid, cv=folds,\n",
        "                           scoring='accuracy',n_jobs=-1,verbose = 1,\n",
        ")\n",
        "clf.fit(X_train, y_train)\n",
        "\n",
        "print(f' Training Accuracy {clf.score(X_train,y_train)}')\n",
        "f'Test Accuracy {clf.score(X_test,y_test)}'\n"
      ],
      "execution_count": null,
      "outputs": [
        {
          "output_type": "stream",
          "text": [
            "Fitting 5 folds for each of 12 candidates, totalling 60 fits\n"
          ],
          "name": "stdout"
        },
        {
          "output_type": "stream",
          "text": [
            "[Parallel(n_jobs=-1)]: Using backend LokyBackend with 2 concurrent workers.\n",
            "[Parallel(n_jobs=-1)]: Done  46 tasks      | elapsed:    6.0s\n"
          ],
          "name": "stderr"
        },
        {
          "output_type": "stream",
          "text": [
            " Training Accuracy 0.9285714285714286\n"
          ],
          "name": "stdout"
        },
        {
          "output_type": "stream",
          "text": [
            "[Parallel(n_jobs=-1)]: Done  60 out of  60 | elapsed:    7.5s finished\n"
          ],
          "name": "stderr"
        },
        {
          "output_type": "execute_result",
          "data": {
            "application/vnd.google.colaboratory.intrinsic+json": {
              "type": "string"
            },
            "text/plain": [
              "'Test Accuracy 0.9166666666666666'"
            ]
          },
          "metadata": {
            "tags": []
          },
          "execution_count": 35
        }
      ]
    },
    {
      "cell_type": "code",
      "metadata": {
        "colab": {
          "base_uri": "https://localhost:8080/"
        },
        "id": "1QEuu16Yj3OR",
        "outputId": "f5c49939-697c-455b-d96c-13dfd42df332"
      },
      "source": [
        "cv_results = pd.DataFrame(clf.cv_results_)\n",
        "cv_results[cv_results.rank_test_score<5]\n",
        "#print the optimum value of hyperparameters\n",
        "print('Best hyperparameters: ', clf.best_params_)"
      ],
      "execution_count": null,
      "outputs": [
        {
          "output_type": "stream",
          "text": [
            "Best hyperparameters:  {'activation': 'relu', 'solver': 'lbfgs'}\n"
          ],
          "name": "stdout"
        }
      ]
    },
    {
      "cell_type": "code",
      "metadata": {
        "id": "_ATUT3yf5Z3J"
      },
      "source": [
        ""
      ],
      "execution_count": null,
      "outputs": []
    },
    {
      "cell_type": "code",
      "metadata": {
        "id": "X-wPV3k45ZFa"
      },
      "source": [
        ""
      ],
      "execution_count": null,
      "outputs": []
    },
    {
      "cell_type": "code",
      "metadata": {
        "id": "HTgg9CgGhTGI",
        "colab": {
          "base_uri": "https://localhost:8080/"
        },
        "outputId": "cdf9a200-680a-40e1-f883-7a1caf35882e"
      },
      "source": [
        "import tensorflow as tf\n",
        "import numpy as np\n",
        "from tensorflow import keras\n",
        "\n",
        "class myCallback(tf.keras.callbacks.Callback):\n",
        "  def on_epoch_end(self, epoch, logs={}):\n",
        "    if(logs.get('accuracy')>= 0.95):\n",
        "      print(\"\\nReached 97% accuracy so cancelling training!\")\n",
        "      self.model.stop_training = True\n",
        "callbacks = myCallback()\n",
        "\n",
        "model = tf.keras.models.Sequential([\n",
        "  tf.keras.layers.Flatten(),\n",
        "  tf.keras.layers.Dense(800, activation=tf.nn.relu),\n",
        "  tf.keras.layers.Dense(256, activation=tf.nn.relu),\n",
        "  tf.keras.layers.Dense(256, activation=tf.nn.relu),\n",
        "  tf.keras.layers.Dense(10, activation=tf.nn.softmax)\n",
        "])\n",
        "model.compile(optimizer='adam', loss='sparse_categorical_crossentropy',metrics=['accuracy'])\n",
        "model.fit(X_train, y_train, epochs=2500,batch_size=32, callbacks=[callbacks])"
      ],
      "execution_count": null,
      "outputs": [
        {
          "output_type": "stream",
          "text": [
            "Epoch 1/2500\n",
            "9/9 [==============================] - 0s 4ms/step - loss: 2.0025 - accuracy: 0.4893\n",
            "Epoch 2/2500\n",
            "9/9 [==============================] - 0s 4ms/step - loss: 1.0100 - accuracy: 0.6679\n",
            "Epoch 3/2500\n",
            "9/9 [==============================] - 0s 4ms/step - loss: 0.6663 - accuracy: 0.6750\n",
            "Epoch 4/2500\n",
            "9/9 [==============================] - 0s 4ms/step - loss: 0.6551 - accuracy: 0.6464\n",
            "Epoch 5/2500\n",
            "9/9 [==============================] - 0s 4ms/step - loss: 0.5753 - accuracy: 0.7571\n",
            "Epoch 6/2500\n",
            "9/9 [==============================] - 0s 4ms/step - loss: 0.5108 - accuracy: 0.8429\n",
            "Epoch 7/2500\n",
            "9/9 [==============================] - 0s 4ms/step - loss: 0.4319 - accuracy: 0.8643\n",
            "Epoch 8/2500\n",
            "9/9 [==============================] - 0s 4ms/step - loss: 0.3794 - accuracy: 0.8679\n",
            "Epoch 9/2500\n",
            "9/9 [==============================] - 0s 4ms/step - loss: 0.3624 - accuracy: 0.8429\n",
            "Epoch 10/2500\n",
            "9/9 [==============================] - 0s 4ms/step - loss: 0.3256 - accuracy: 0.8750\n",
            "Epoch 11/2500\n",
            "9/9 [==============================] - 0s 4ms/step - loss: 0.3303 - accuracy: 0.8571\n",
            "Epoch 12/2500\n",
            "9/9 [==============================] - 0s 4ms/step - loss: 0.2866 - accuracy: 0.8786\n",
            "Epoch 13/2500\n",
            "9/9 [==============================] - 0s 4ms/step - loss: 0.3453 - accuracy: 0.8571\n",
            "Epoch 14/2500\n",
            "9/9 [==============================] - 0s 4ms/step - loss: 0.2836 - accuracy: 0.9071\n",
            "Epoch 15/2500\n",
            "9/9 [==============================] - 0s 4ms/step - loss: 0.2811 - accuracy: 0.8929\n",
            "Epoch 16/2500\n",
            "9/9 [==============================] - 0s 4ms/step - loss: 0.2804 - accuracy: 0.9036\n",
            "Epoch 17/2500\n",
            "9/9 [==============================] - 0s 4ms/step - loss: 0.2772 - accuracy: 0.9107\n",
            "Epoch 18/2500\n",
            "9/9 [==============================] - 0s 4ms/step - loss: 0.2616 - accuracy: 0.9036\n",
            "Epoch 19/2500\n",
            "9/9 [==============================] - 0s 4ms/step - loss: 0.2792 - accuracy: 0.9000\n",
            "Epoch 20/2500\n",
            "9/9 [==============================] - 0s 4ms/step - loss: 0.2551 - accuracy: 0.9143\n",
            "Epoch 21/2500\n",
            "9/9 [==============================] - 0s 4ms/step - loss: 0.2744 - accuracy: 0.8857\n",
            "Epoch 22/2500\n",
            "9/9 [==============================] - 0s 5ms/step - loss: 0.2652 - accuracy: 0.9071\n",
            "Epoch 23/2500\n",
            "9/9 [==============================] - 0s 4ms/step - loss: 0.2658 - accuracy: 0.9107\n",
            "Epoch 24/2500\n",
            "9/9 [==============================] - 0s 4ms/step - loss: 0.2602 - accuracy: 0.9036\n",
            "Epoch 25/2500\n",
            "9/9 [==============================] - 0s 4ms/step - loss: 0.2647 - accuracy: 0.9071\n",
            "Epoch 26/2500\n",
            "9/9 [==============================] - 0s 4ms/step - loss: 0.2515 - accuracy: 0.9107\n",
            "Epoch 27/2500\n",
            "9/9 [==============================] - 0s 4ms/step - loss: 0.2491 - accuracy: 0.9143\n",
            "Epoch 28/2500\n",
            "9/9 [==============================] - 0s 4ms/step - loss: 0.2533 - accuracy: 0.9036\n",
            "Epoch 29/2500\n",
            "9/9 [==============================] - 0s 5ms/step - loss: 0.2483 - accuracy: 0.9107\n",
            "Epoch 30/2500\n",
            "9/9 [==============================] - 0s 4ms/step - loss: 0.2478 - accuracy: 0.9036\n",
            "Epoch 31/2500\n",
            "9/9 [==============================] - 0s 4ms/step - loss: 0.2488 - accuracy: 0.9000\n",
            "Epoch 32/2500\n",
            "9/9 [==============================] - 0s 4ms/step - loss: 0.2424 - accuracy: 0.9286\n",
            "Epoch 33/2500\n",
            "9/9 [==============================] - 0s 4ms/step - loss: 0.2467 - accuracy: 0.8964\n",
            "Epoch 34/2500\n",
            "9/9 [==============================] - 0s 5ms/step - loss: 0.2493 - accuracy: 0.9143\n",
            "Epoch 35/2500\n",
            "9/9 [==============================] - 0s 4ms/step - loss: 0.2449 - accuracy: 0.9107\n",
            "Epoch 36/2500\n",
            "9/9 [==============================] - 0s 3ms/step - loss: 0.2606 - accuracy: 0.9036\n",
            "Epoch 37/2500\n",
            "9/9 [==============================] - 0s 4ms/step - loss: 0.2454 - accuracy: 0.9143\n",
            "Epoch 38/2500\n",
            "9/9 [==============================] - 0s 4ms/step - loss: 0.2452 - accuracy: 0.9036\n",
            "Epoch 39/2500\n",
            "9/9 [==============================] - 0s 5ms/step - loss: 0.2461 - accuracy: 0.9071\n",
            "Epoch 40/2500\n",
            "9/9 [==============================] - 0s 4ms/step - loss: 0.2392 - accuracy: 0.9179\n",
            "Epoch 41/2500\n",
            "9/9 [==============================] - 0s 4ms/step - loss: 0.2411 - accuracy: 0.9143\n",
            "Epoch 42/2500\n",
            "9/9 [==============================] - 0s 4ms/step - loss: 0.2321 - accuracy: 0.9214\n",
            "Epoch 43/2500\n",
            "9/9 [==============================] - 0s 4ms/step - loss: 0.2341 - accuracy: 0.9214\n",
            "Epoch 44/2500\n",
            "9/9 [==============================] - 0s 4ms/step - loss: 0.2422 - accuracy: 0.9179\n",
            "Epoch 45/2500\n",
            "9/9 [==============================] - 0s 4ms/step - loss: 0.2353 - accuracy: 0.9143\n",
            "Epoch 46/2500\n",
            "9/9 [==============================] - 0s 5ms/step - loss: 0.2324 - accuracy: 0.9143\n",
            "Epoch 47/2500\n",
            "9/9 [==============================] - 0s 4ms/step - loss: 0.2423 - accuracy: 0.9107\n",
            "Epoch 48/2500\n",
            "9/9 [==============================] - 0s 4ms/step - loss: 0.2460 - accuracy: 0.9179\n",
            "Epoch 49/2500\n",
            "9/9 [==============================] - 0s 4ms/step - loss: 0.2468 - accuracy: 0.9143\n",
            "Epoch 50/2500\n",
            "9/9 [==============================] - 0s 4ms/step - loss: 0.2715 - accuracy: 0.8893\n",
            "Epoch 51/2500\n",
            "9/9 [==============================] - 0s 4ms/step - loss: 0.2416 - accuracy: 0.9107\n",
            "Epoch 52/2500\n",
            "9/9 [==============================] - 0s 4ms/step - loss: 0.2406 - accuracy: 0.9250\n",
            "Epoch 53/2500\n",
            "9/9 [==============================] - 0s 4ms/step - loss: 0.2308 - accuracy: 0.9107\n",
            "Epoch 54/2500\n",
            "9/9 [==============================] - 0s 4ms/step - loss: 0.2487 - accuracy: 0.9071\n",
            "Epoch 55/2500\n",
            "9/9 [==============================] - 0s 4ms/step - loss: 0.2369 - accuracy: 0.9107\n",
            "Epoch 56/2500\n",
            "9/9 [==============================] - 0s 4ms/step - loss: 0.2320 - accuracy: 0.9179\n",
            "Epoch 57/2500\n",
            "9/9 [==============================] - 0s 4ms/step - loss: 0.2281 - accuracy: 0.9250\n",
            "Epoch 58/2500\n",
            "9/9 [==============================] - 0s 5ms/step - loss: 0.2277 - accuracy: 0.9250\n",
            "Epoch 59/2500\n",
            "9/9 [==============================] - 0s 4ms/step - loss: 0.2274 - accuracy: 0.9214\n",
            "Epoch 60/2500\n",
            "9/9 [==============================] - 0s 4ms/step - loss: 0.2397 - accuracy: 0.9143\n",
            "Epoch 61/2500\n",
            "9/9 [==============================] - 0s 4ms/step - loss: 0.2387 - accuracy: 0.9214\n",
            "Epoch 62/2500\n",
            "9/9 [==============================] - 0s 4ms/step - loss: 0.2307 - accuracy: 0.9179\n",
            "Epoch 63/2500\n",
            "9/9 [==============================] - 0s 4ms/step - loss: 0.2257 - accuracy: 0.9143\n",
            "Epoch 64/2500\n",
            "9/9 [==============================] - 0s 4ms/step - loss: 0.2350 - accuracy: 0.9214\n",
            "Epoch 65/2500\n",
            "9/9 [==============================] - 0s 4ms/step - loss: 0.2435 - accuracy: 0.9179\n",
            "Epoch 66/2500\n",
            "9/9 [==============================] - 0s 4ms/step - loss: 0.2274 - accuracy: 0.9179\n",
            "Epoch 67/2500\n",
            "9/9 [==============================] - 0s 4ms/step - loss: 0.2388 - accuracy: 0.9179\n",
            "Epoch 68/2500\n",
            "9/9 [==============================] - 0s 4ms/step - loss: 0.2295 - accuracy: 0.9214\n",
            "Epoch 69/2500\n",
            "9/9 [==============================] - 0s 5ms/step - loss: 0.2328 - accuracy: 0.9107\n",
            "Epoch 70/2500\n",
            "9/9 [==============================] - 0s 5ms/step - loss: 0.2272 - accuracy: 0.9143\n",
            "Epoch 71/2500\n",
            "9/9 [==============================] - 0s 4ms/step - loss: 0.2367 - accuracy: 0.9143\n",
            "Epoch 72/2500\n",
            "9/9 [==============================] - 0s 4ms/step - loss: 0.2259 - accuracy: 0.9214\n",
            "Epoch 73/2500\n",
            "9/9 [==============================] - 0s 4ms/step - loss: 0.2234 - accuracy: 0.9143\n",
            "Epoch 74/2500\n",
            "9/9 [==============================] - 0s 4ms/step - loss: 0.2208 - accuracy: 0.9250\n",
            "Epoch 75/2500\n",
            "9/9 [==============================] - 0s 4ms/step - loss: 0.2212 - accuracy: 0.9214\n",
            "Epoch 76/2500\n",
            "9/9 [==============================] - 0s 4ms/step - loss: 0.2308 - accuracy: 0.9214\n",
            "Epoch 77/2500\n",
            "9/9 [==============================] - 0s 4ms/step - loss: 0.2213 - accuracy: 0.9214\n",
            "Epoch 78/2500\n",
            "9/9 [==============================] - 0s 4ms/step - loss: 0.2222 - accuracy: 0.9250\n",
            "Epoch 79/2500\n",
            "9/9 [==============================] - 0s 4ms/step - loss: 0.2461 - accuracy: 0.9107\n",
            "Epoch 80/2500\n",
            "9/9 [==============================] - 0s 4ms/step - loss: 0.2358 - accuracy: 0.9179\n",
            "Epoch 81/2500\n",
            "9/9 [==============================] - 0s 4ms/step - loss: 0.2260 - accuracy: 0.9250\n",
            "Epoch 82/2500\n",
            "9/9 [==============================] - 0s 4ms/step - loss: 0.2367 - accuracy: 0.9143\n",
            "Epoch 83/2500\n",
            "9/9 [==============================] - 0s 4ms/step - loss: 0.2287 - accuracy: 0.9250\n",
            "Epoch 84/2500\n",
            "9/9 [==============================] - 0s 4ms/step - loss: 0.2334 - accuracy: 0.9179\n",
            "Epoch 85/2500\n",
            "9/9 [==============================] - 0s 4ms/step - loss: 0.2282 - accuracy: 0.9214\n",
            "Epoch 86/2500\n",
            "9/9 [==============================] - 0s 4ms/step - loss: 0.2256 - accuracy: 0.9214\n",
            "Epoch 87/2500\n",
            "9/9 [==============================] - 0s 4ms/step - loss: 0.2210 - accuracy: 0.9250\n",
            "Epoch 88/2500\n",
            "9/9 [==============================] - 0s 4ms/step - loss: 0.2249 - accuracy: 0.9214\n",
            "Epoch 89/2500\n",
            "9/9 [==============================] - 0s 4ms/step - loss: 0.2246 - accuracy: 0.9179\n",
            "Epoch 90/2500\n",
            "9/9 [==============================] - 0s 4ms/step - loss: 0.2196 - accuracy: 0.9214\n",
            "Epoch 91/2500\n",
            "9/9 [==============================] - 0s 4ms/step - loss: 0.2269 - accuracy: 0.9107\n",
            "Epoch 92/2500\n",
            "9/9 [==============================] - 0s 4ms/step - loss: 0.2285 - accuracy: 0.9214\n",
            "Epoch 93/2500\n",
            "9/9 [==============================] - 0s 4ms/step - loss: 0.2180 - accuracy: 0.9286\n",
            "Epoch 94/2500\n",
            "9/9 [==============================] - 0s 4ms/step - loss: 0.2280 - accuracy: 0.9214\n",
            "Epoch 95/2500\n",
            "9/9 [==============================] - 0s 4ms/step - loss: 0.2254 - accuracy: 0.9286\n",
            "Epoch 96/2500\n",
            "9/9 [==============================] - 0s 4ms/step - loss: 0.2182 - accuracy: 0.9214\n",
            "Epoch 97/2500\n",
            "9/9 [==============================] - 0s 4ms/step - loss: 0.2566 - accuracy: 0.8821\n",
            "Epoch 98/2500\n",
            "9/9 [==============================] - 0s 4ms/step - loss: 0.2189 - accuracy: 0.9286\n",
            "Epoch 99/2500\n",
            "9/9 [==============================] - 0s 4ms/step - loss: 0.2257 - accuracy: 0.9214\n",
            "Epoch 100/2500\n",
            "9/9 [==============================] - 0s 4ms/step - loss: 0.2224 - accuracy: 0.9214\n",
            "Epoch 101/2500\n",
            "9/9 [==============================] - 0s 4ms/step - loss: 0.2287 - accuracy: 0.9143\n",
            "Epoch 102/2500\n",
            "9/9 [==============================] - 0s 4ms/step - loss: 0.2194 - accuracy: 0.9250\n",
            "Epoch 103/2500\n",
            "9/9 [==============================] - 0s 4ms/step - loss: 0.2305 - accuracy: 0.9214\n",
            "Epoch 104/2500\n",
            "9/9 [==============================] - 0s 4ms/step - loss: 0.2123 - accuracy: 0.9321\n",
            "Epoch 105/2500\n",
            "9/9 [==============================] - 0s 4ms/step - loss: 0.2269 - accuracy: 0.9250\n",
            "Epoch 106/2500\n",
            "9/9 [==============================] - 0s 4ms/step - loss: 0.2190 - accuracy: 0.9179\n",
            "Epoch 107/2500\n",
            "9/9 [==============================] - 0s 4ms/step - loss: 0.2160 - accuracy: 0.9250\n",
            "Epoch 108/2500\n",
            "9/9 [==============================] - 0s 4ms/step - loss: 0.2248 - accuracy: 0.9071\n",
            "Epoch 109/2500\n",
            "9/9 [==============================] - 0s 4ms/step - loss: 0.2267 - accuracy: 0.9214\n",
            "Epoch 110/2500\n",
            "9/9 [==============================] - 0s 4ms/step - loss: 0.2194 - accuracy: 0.9143\n",
            "Epoch 111/2500\n",
            "9/9 [==============================] - 0s 4ms/step - loss: 0.2183 - accuracy: 0.9286\n",
            "Epoch 112/2500\n",
            "9/9 [==============================] - 0s 5ms/step - loss: 0.2147 - accuracy: 0.9250\n",
            "Epoch 113/2500\n",
            "9/9 [==============================] - 0s 5ms/step - loss: 0.2248 - accuracy: 0.9214\n",
            "Epoch 114/2500\n",
            "9/9 [==============================] - 0s 4ms/step - loss: 0.2356 - accuracy: 0.9214\n",
            "Epoch 115/2500\n",
            "9/9 [==============================] - 0s 4ms/step - loss: 0.2177 - accuracy: 0.9214\n",
            "Epoch 116/2500\n",
            "9/9 [==============================] - 0s 4ms/step - loss: 0.2198 - accuracy: 0.9250\n",
            "Epoch 117/2500\n",
            "9/9 [==============================] - 0s 4ms/step - loss: 0.2206 - accuracy: 0.9179\n",
            "Epoch 118/2500\n",
            "9/9 [==============================] - 0s 4ms/step - loss: 0.2223 - accuracy: 0.9214\n",
            "Epoch 119/2500\n",
            "9/9 [==============================] - 0s 4ms/step - loss: 0.2269 - accuracy: 0.9214\n",
            "Epoch 120/2500\n",
            "9/9 [==============================] - 0s 5ms/step - loss: 0.2156 - accuracy: 0.9250\n",
            "Epoch 121/2500\n",
            "9/9 [==============================] - 0s 4ms/step - loss: 0.2130 - accuracy: 0.9321\n",
            "Epoch 122/2500\n",
            "9/9 [==============================] - 0s 4ms/step - loss: 0.2151 - accuracy: 0.9250\n",
            "Epoch 123/2500\n",
            "9/9 [==============================] - 0s 4ms/step - loss: 0.2199 - accuracy: 0.9143\n",
            "Epoch 124/2500\n",
            "9/9 [==============================] - 0s 4ms/step - loss: 0.2139 - accuracy: 0.9286\n",
            "Epoch 125/2500\n",
            "9/9 [==============================] - 0s 4ms/step - loss: 0.2210 - accuracy: 0.9250\n",
            "Epoch 126/2500\n",
            "9/9 [==============================] - 0s 4ms/step - loss: 0.2216 - accuracy: 0.9286\n",
            "Epoch 127/2500\n",
            "9/9 [==============================] - 0s 5ms/step - loss: 0.2130 - accuracy: 0.9214\n",
            "Epoch 128/2500\n",
            "9/9 [==============================] - 0s 4ms/step - loss: 0.2137 - accuracy: 0.9250\n",
            "Epoch 129/2500\n",
            "9/9 [==============================] - 0s 4ms/step - loss: 0.2132 - accuracy: 0.9250\n",
            "Epoch 130/2500\n",
            "9/9 [==============================] - 0s 5ms/step - loss: 0.2235 - accuracy: 0.9250\n",
            "Epoch 131/2500\n",
            "9/9 [==============================] - 0s 4ms/step - loss: 0.2164 - accuracy: 0.9250\n",
            "Epoch 132/2500\n",
            "9/9 [==============================] - 0s 6ms/step - loss: 0.2107 - accuracy: 0.9321\n",
            "Epoch 133/2500\n",
            "9/9 [==============================] - 0s 4ms/step - loss: 0.2149 - accuracy: 0.9250\n",
            "Epoch 134/2500\n",
            "9/9 [==============================] - 0s 4ms/step - loss: 0.2089 - accuracy: 0.9286\n",
            "Epoch 135/2500\n",
            "9/9 [==============================] - 0s 4ms/step - loss: 0.2136 - accuracy: 0.9214\n",
            "Epoch 136/2500\n",
            "9/9 [==============================] - 0s 4ms/step - loss: 0.2092 - accuracy: 0.9321\n",
            "Epoch 137/2500\n",
            "9/9 [==============================] - 0s 4ms/step - loss: 0.2111 - accuracy: 0.9286\n",
            "Epoch 138/2500\n",
            "9/9 [==============================] - 0s 4ms/step - loss: 0.2152 - accuracy: 0.9286\n",
            "Epoch 139/2500\n",
            "9/9 [==============================] - 0s 4ms/step - loss: 0.2090 - accuracy: 0.9286\n",
            "Epoch 140/2500\n",
            "9/9 [==============================] - 0s 4ms/step - loss: 0.2116 - accuracy: 0.9179\n",
            "Epoch 141/2500\n",
            "9/9 [==============================] - 0s 4ms/step - loss: 0.2194 - accuracy: 0.9250\n",
            "Epoch 142/2500\n",
            "9/9 [==============================] - 0s 4ms/step - loss: 0.2188 - accuracy: 0.9250\n",
            "Epoch 143/2500\n",
            "9/9 [==============================] - 0s 4ms/step - loss: 0.2197 - accuracy: 0.9179\n",
            "Epoch 144/2500\n",
            "9/9 [==============================] - 0s 4ms/step - loss: 0.2444 - accuracy: 0.8964\n",
            "Epoch 145/2500\n",
            "9/9 [==============================] - 0s 4ms/step - loss: 0.2117 - accuracy: 0.9286\n",
            "Epoch 146/2500\n",
            "9/9 [==============================] - 0s 4ms/step - loss: 0.2078 - accuracy: 0.9321\n",
            "Epoch 147/2500\n",
            "9/9 [==============================] - 0s 4ms/step - loss: 0.2176 - accuracy: 0.9250\n",
            "Epoch 148/2500\n",
            "9/9 [==============================] - 0s 4ms/step - loss: 0.2053 - accuracy: 0.9250\n",
            "Epoch 149/2500\n",
            "9/9 [==============================] - 0s 4ms/step - loss: 0.2257 - accuracy: 0.9107\n",
            "Epoch 150/2500\n",
            "9/9 [==============================] - 0s 4ms/step - loss: 0.2108 - accuracy: 0.9250\n",
            "Epoch 151/2500\n",
            "9/9 [==============================] - 0s 4ms/step - loss: 0.2161 - accuracy: 0.9143\n",
            "Epoch 152/2500\n",
            "9/9 [==============================] - 0s 4ms/step - loss: 0.2085 - accuracy: 0.9250\n",
            "Epoch 153/2500\n",
            "9/9 [==============================] - 0s 4ms/step - loss: 0.2153 - accuracy: 0.9250\n",
            "Epoch 154/2500\n",
            "9/9 [==============================] - 0s 4ms/step - loss: 0.2191 - accuracy: 0.9250\n",
            "Epoch 155/2500\n",
            "9/9 [==============================] - 0s 4ms/step - loss: 0.2178 - accuracy: 0.9250\n",
            "Epoch 156/2500\n",
            "9/9 [==============================] - 0s 4ms/step - loss: 0.2167 - accuracy: 0.9250\n",
            "Epoch 157/2500\n",
            "9/9 [==============================] - 0s 4ms/step - loss: 0.2068 - accuracy: 0.9321\n",
            "Epoch 158/2500\n",
            "9/9 [==============================] - 0s 4ms/step - loss: 0.2133 - accuracy: 0.9179\n",
            "Epoch 159/2500\n",
            "9/9 [==============================] - 0s 4ms/step - loss: 0.2184 - accuracy: 0.9179\n",
            "Epoch 160/2500\n",
            "9/9 [==============================] - 0s 4ms/step - loss: 0.2161 - accuracy: 0.9214\n",
            "Epoch 161/2500\n",
            "9/9 [==============================] - 0s 5ms/step - loss: 0.2165 - accuracy: 0.9250\n",
            "Epoch 162/2500\n",
            "9/9 [==============================] - 0s 4ms/step - loss: 0.2179 - accuracy: 0.9214\n",
            "Epoch 163/2500\n",
            "9/9 [==============================] - 0s 5ms/step - loss: 0.2109 - accuracy: 0.9250\n",
            "Epoch 164/2500\n",
            "9/9 [==============================] - 0s 4ms/step - loss: 0.2254 - accuracy: 0.9107\n",
            "Epoch 165/2500\n",
            "9/9 [==============================] - 0s 4ms/step - loss: 0.2088 - accuracy: 0.9321\n",
            "Epoch 166/2500\n",
            "9/9 [==============================] - 0s 4ms/step - loss: 0.2384 - accuracy: 0.9107\n",
            "Epoch 167/2500\n",
            "9/9 [==============================] - 0s 4ms/step - loss: 0.2321 - accuracy: 0.9036\n",
            "Epoch 168/2500\n",
            "9/9 [==============================] - 0s 5ms/step - loss: 0.2738 - accuracy: 0.8964\n",
            "Epoch 169/2500\n",
            "9/9 [==============================] - 0s 4ms/step - loss: 0.2157 - accuracy: 0.9250\n",
            "Epoch 170/2500\n",
            "9/9 [==============================] - 0s 5ms/step - loss: 0.2183 - accuracy: 0.9250\n",
            "Epoch 171/2500\n",
            "9/9 [==============================] - 0s 4ms/step - loss: 0.2109 - accuracy: 0.9250\n",
            "Epoch 172/2500\n",
            "9/9 [==============================] - 0s 4ms/step - loss: 0.2107 - accuracy: 0.9286\n",
            "Epoch 173/2500\n",
            "9/9 [==============================] - 0s 4ms/step - loss: 0.2107 - accuracy: 0.9214\n",
            "Epoch 174/2500\n",
            "9/9 [==============================] - 0s 4ms/step - loss: 0.2135 - accuracy: 0.9250\n",
            "Epoch 175/2500\n",
            "9/9 [==============================] - 0s 4ms/step - loss: 0.2076 - accuracy: 0.9250\n",
            "Epoch 176/2500\n",
            "9/9 [==============================] - 0s 4ms/step - loss: 0.2145 - accuracy: 0.9250\n",
            "Epoch 177/2500\n",
            "9/9 [==============================] - 0s 4ms/step - loss: 0.2107 - accuracy: 0.9214\n",
            "Epoch 178/2500\n",
            "9/9 [==============================] - 0s 4ms/step - loss: 0.2167 - accuracy: 0.9179\n",
            "Epoch 179/2500\n",
            "9/9 [==============================] - 0s 4ms/step - loss: 0.2392 - accuracy: 0.9036\n",
            "Epoch 180/2500\n",
            "9/9 [==============================] - 0s 5ms/step - loss: 0.2294 - accuracy: 0.9143\n",
            "Epoch 181/2500\n",
            "9/9 [==============================] - 0s 4ms/step - loss: 0.2243 - accuracy: 0.9214\n",
            "Epoch 182/2500\n",
            "9/9 [==============================] - 0s 5ms/step - loss: 0.2305 - accuracy: 0.9107\n",
            "Epoch 183/2500\n",
            "9/9 [==============================] - 0s 5ms/step - loss: 0.2105 - accuracy: 0.9214\n",
            "Epoch 184/2500\n",
            "9/9 [==============================] - 0s 4ms/step - loss: 0.2103 - accuracy: 0.9250\n",
            "Epoch 185/2500\n",
            "9/9 [==============================] - 0s 5ms/step - loss: 0.2027 - accuracy: 0.9286\n",
            "Epoch 186/2500\n",
            "9/9 [==============================] - 0s 4ms/step - loss: 0.2043 - accuracy: 0.9286\n",
            "Epoch 187/2500\n",
            "9/9 [==============================] - 0s 4ms/step - loss: 0.2057 - accuracy: 0.9286\n",
            "Epoch 188/2500\n",
            "9/9 [==============================] - 0s 4ms/step - loss: 0.2078 - accuracy: 0.9250\n",
            "Epoch 189/2500\n",
            "9/9 [==============================] - 0s 5ms/step - loss: 0.2062 - accuracy: 0.9250\n",
            "Epoch 190/2500\n",
            "9/9 [==============================] - 0s 4ms/step - loss: 0.2005 - accuracy: 0.9286\n",
            "Epoch 191/2500\n",
            "9/9 [==============================] - 0s 4ms/step - loss: 0.2039 - accuracy: 0.9321\n",
            "Epoch 192/2500\n",
            "9/9 [==============================] - 0s 4ms/step - loss: 0.2009 - accuracy: 0.9250\n",
            "Epoch 193/2500\n",
            "9/9 [==============================] - 0s 5ms/step - loss: 0.2063 - accuracy: 0.9286\n",
            "Epoch 194/2500\n",
            "9/9 [==============================] - 0s 4ms/step - loss: 0.2015 - accuracy: 0.9250\n",
            "Epoch 195/2500\n",
            "9/9 [==============================] - 0s 4ms/step - loss: 0.2096 - accuracy: 0.9214\n",
            "Epoch 196/2500\n",
            "9/9 [==============================] - 0s 4ms/step - loss: 0.2050 - accuracy: 0.9286\n",
            "Epoch 197/2500\n",
            "9/9 [==============================] - 0s 4ms/step - loss: 0.2053 - accuracy: 0.9250\n",
            "Epoch 198/2500\n",
            "9/9 [==============================] - 0s 4ms/step - loss: 0.2071 - accuracy: 0.9286\n",
            "Epoch 199/2500\n",
            "9/9 [==============================] - 0s 4ms/step - loss: 0.2056 - accuracy: 0.9250\n",
            "Epoch 200/2500\n",
            "9/9 [==============================] - 0s 4ms/step - loss: 0.2031 - accuracy: 0.9250\n",
            "Epoch 201/2500\n",
            "9/9 [==============================] - 0s 4ms/step - loss: 0.2009 - accuracy: 0.9250\n",
            "Epoch 202/2500\n",
            "9/9 [==============================] - 0s 5ms/step - loss: 0.2037 - accuracy: 0.9286\n",
            "Epoch 203/2500\n",
            "9/9 [==============================] - 0s 4ms/step - loss: 0.2068 - accuracy: 0.9286\n",
            "Epoch 204/2500\n",
            "9/9 [==============================] - 0s 4ms/step - loss: 0.2073 - accuracy: 0.9321\n",
            "Epoch 205/2500\n",
            "9/9 [==============================] - 0s 5ms/step - loss: 0.2132 - accuracy: 0.9214\n",
            "Epoch 206/2500\n",
            "9/9 [==============================] - 0s 4ms/step - loss: 0.2115 - accuracy: 0.9214\n",
            "Epoch 207/2500\n",
            "9/9 [==============================] - 0s 4ms/step - loss: 0.2055 - accuracy: 0.9250\n",
            "Epoch 208/2500\n",
            "9/9 [==============================] - 0s 4ms/step - loss: 0.1988 - accuracy: 0.9286\n",
            "Epoch 209/2500\n",
            "9/9 [==============================] - 0s 4ms/step - loss: 0.2035 - accuracy: 0.9250\n",
            "Epoch 210/2500\n",
            "9/9 [==============================] - 0s 5ms/step - loss: 0.2013 - accuracy: 0.9250\n",
            "Epoch 211/2500\n",
            "9/9 [==============================] - 0s 5ms/step - loss: 0.2106 - accuracy: 0.9250\n",
            "Epoch 212/2500\n",
            "9/9 [==============================] - 0s 4ms/step - loss: 0.2137 - accuracy: 0.9286\n",
            "Epoch 213/2500\n",
            "9/9 [==============================] - 0s 4ms/step - loss: 0.1998 - accuracy: 0.9250\n",
            "Epoch 214/2500\n",
            "9/9 [==============================] - 0s 4ms/step - loss: 0.2076 - accuracy: 0.9286\n",
            "Epoch 215/2500\n",
            "9/9 [==============================] - 0s 4ms/step - loss: 0.1993 - accuracy: 0.9321\n",
            "Epoch 216/2500\n",
            "9/9 [==============================] - 0s 4ms/step - loss: 0.1966 - accuracy: 0.9321\n",
            "Epoch 217/2500\n",
            "9/9 [==============================] - 0s 5ms/step - loss: 0.2027 - accuracy: 0.9250\n",
            "Epoch 218/2500\n",
            "9/9 [==============================] - 0s 4ms/step - loss: 0.2082 - accuracy: 0.9250\n",
            "Epoch 219/2500\n",
            "9/9 [==============================] - 0s 4ms/step - loss: 0.1987 - accuracy: 0.9321\n",
            "Epoch 220/2500\n",
            "9/9 [==============================] - 0s 4ms/step - loss: 0.2026 - accuracy: 0.9214\n",
            "Epoch 221/2500\n",
            "9/9 [==============================] - 0s 4ms/step - loss: 0.1945 - accuracy: 0.9286\n",
            "Epoch 222/2500\n",
            "9/9 [==============================] - 0s 5ms/step - loss: 0.2147 - accuracy: 0.9286\n",
            "Epoch 223/2500\n",
            "9/9 [==============================] - 0s 5ms/step - loss: 0.1934 - accuracy: 0.9250\n",
            "Epoch 224/2500\n",
            "9/9 [==============================] - 0s 4ms/step - loss: 0.1988 - accuracy: 0.9286\n",
            "Epoch 225/2500\n",
            "9/9 [==============================] - 0s 4ms/step - loss: 0.2033 - accuracy: 0.9286\n",
            "Epoch 226/2500\n",
            "9/9 [==============================] - 0s 4ms/step - loss: 0.1987 - accuracy: 0.9286\n",
            "Epoch 227/2500\n",
            "9/9 [==============================] - 0s 4ms/step - loss: 0.1956 - accuracy: 0.9286\n",
            "Epoch 228/2500\n",
            "9/9 [==============================] - 0s 4ms/step - loss: 0.2006 - accuracy: 0.9214\n",
            "Epoch 229/2500\n",
            "9/9 [==============================] - 0s 4ms/step - loss: 0.1936 - accuracy: 0.9321\n",
            "Epoch 230/2500\n",
            "9/9 [==============================] - 0s 6ms/step - loss: 0.1968 - accuracy: 0.9286\n",
            "Epoch 231/2500\n",
            "9/9 [==============================] - 0s 4ms/step - loss: 0.2058 - accuracy: 0.9321\n",
            "Epoch 232/2500\n",
            "9/9 [==============================] - 0s 4ms/step - loss: 0.2039 - accuracy: 0.9214\n",
            "Epoch 233/2500\n",
            "9/9 [==============================] - 0s 4ms/step - loss: 0.2027 - accuracy: 0.9286\n",
            "Epoch 234/2500\n",
            "9/9 [==============================] - 0s 5ms/step - loss: 0.1984 - accuracy: 0.9250\n",
            "Epoch 235/2500\n",
            "9/9 [==============================] - 0s 4ms/step - loss: 0.1998 - accuracy: 0.9286\n",
            "Epoch 236/2500\n",
            "9/9 [==============================] - 0s 5ms/step - loss: 0.1926 - accuracy: 0.9286\n",
            "Epoch 237/2500\n",
            "9/9 [==============================] - 0s 5ms/step - loss: 0.2004 - accuracy: 0.9321\n",
            "Epoch 238/2500\n",
            "9/9 [==============================] - 0s 4ms/step - loss: 0.2021 - accuracy: 0.9286\n",
            "Epoch 239/2500\n",
            "9/9 [==============================] - 0s 4ms/step - loss: 0.1939 - accuracy: 0.9250\n",
            "Epoch 240/2500\n",
            "9/9 [==============================] - 0s 5ms/step - loss: 0.1968 - accuracy: 0.9286\n",
            "Epoch 241/2500\n",
            "9/9 [==============================] - 0s 4ms/step - loss: 0.2092 - accuracy: 0.9179\n",
            "Epoch 242/2500\n",
            "9/9 [==============================] - 0s 5ms/step - loss: 0.1983 - accuracy: 0.9321\n",
            "Epoch 243/2500\n",
            "9/9 [==============================] - 0s 5ms/step - loss: 0.2002 - accuracy: 0.9250\n",
            "Epoch 244/2500\n",
            "9/9 [==============================] - 0s 4ms/step - loss: 0.2007 - accuracy: 0.9250\n",
            "Epoch 245/2500\n",
            "9/9 [==============================] - 0s 4ms/step - loss: 0.1996 - accuracy: 0.9286\n",
            "Epoch 246/2500\n",
            "9/9 [==============================] - 0s 4ms/step - loss: 0.2029 - accuracy: 0.9286\n",
            "Epoch 247/2500\n",
            "9/9 [==============================] - 0s 4ms/step - loss: 0.2127 - accuracy: 0.9143\n",
            "Epoch 248/2500\n",
            "9/9 [==============================] - 0s 4ms/step - loss: 0.2163 - accuracy: 0.9250\n",
            "Epoch 249/2500\n",
            "9/9 [==============================] - 0s 4ms/step - loss: 0.2025 - accuracy: 0.9214\n",
            "Epoch 250/2500\n",
            "9/9 [==============================] - 0s 4ms/step - loss: 0.1982 - accuracy: 0.9214\n",
            "Epoch 251/2500\n",
            "9/9 [==============================] - 0s 4ms/step - loss: 0.2045 - accuracy: 0.9214\n",
            "Epoch 252/2500\n",
            "9/9 [==============================] - 0s 5ms/step - loss: 0.1998 - accuracy: 0.9286\n",
            "Epoch 253/2500\n",
            "9/9 [==============================] - 0s 5ms/step - loss: 0.2005 - accuracy: 0.9250\n",
            "Epoch 254/2500\n",
            "9/9 [==============================] - 0s 4ms/step - loss: 0.1970 - accuracy: 0.9250\n",
            "Epoch 255/2500\n",
            "9/9 [==============================] - 0s 4ms/step - loss: 0.1947 - accuracy: 0.9321\n",
            "Epoch 256/2500\n",
            "9/9 [==============================] - 0s 6ms/step - loss: 0.2054 - accuracy: 0.9214\n",
            "Epoch 257/2500\n",
            "9/9 [==============================] - 0s 4ms/step - loss: 0.2106 - accuracy: 0.9250\n",
            "Epoch 258/2500\n",
            "9/9 [==============================] - 0s 4ms/step - loss: 0.2093 - accuracy: 0.9286\n",
            "Epoch 259/2500\n",
            "9/9 [==============================] - 0s 5ms/step - loss: 0.1909 - accuracy: 0.9321\n",
            "Epoch 260/2500\n",
            "9/9 [==============================] - 0s 4ms/step - loss: 0.1951 - accuracy: 0.9286\n",
            "Epoch 261/2500\n",
            "9/9 [==============================] - 0s 5ms/step - loss: 0.2024 - accuracy: 0.9250\n",
            "Epoch 262/2500\n",
            "9/9 [==============================] - 0s 4ms/step - loss: 0.1943 - accuracy: 0.9286\n",
            "Epoch 263/2500\n",
            "9/9 [==============================] - 0s 4ms/step - loss: 0.1939 - accuracy: 0.9107\n",
            "Epoch 264/2500\n",
            "9/9 [==============================] - 0s 4ms/step - loss: 0.1940 - accuracy: 0.9250\n",
            "Epoch 265/2500\n",
            "9/9 [==============================] - 0s 5ms/step - loss: 0.2071 - accuracy: 0.9286\n",
            "Epoch 266/2500\n",
            "9/9 [==============================] - 0s 4ms/step - loss: 0.2056 - accuracy: 0.9214\n",
            "Epoch 267/2500\n",
            "9/9 [==============================] - 0s 4ms/step - loss: 0.1987 - accuracy: 0.9321\n",
            "Epoch 268/2500\n",
            "9/9 [==============================] - 0s 4ms/step - loss: 0.1945 - accuracy: 0.9250\n",
            "Epoch 269/2500\n",
            "9/9 [==============================] - 0s 4ms/step - loss: 0.1929 - accuracy: 0.9179\n",
            "Epoch 270/2500\n",
            "9/9 [==============================] - 0s 4ms/step - loss: 0.1960 - accuracy: 0.9250\n",
            "Epoch 271/2500\n",
            "9/9 [==============================] - 0s 4ms/step - loss: 0.1947 - accuracy: 0.9321\n",
            "Epoch 272/2500\n",
            "9/9 [==============================] - 0s 5ms/step - loss: 0.1866 - accuracy: 0.9286\n",
            "Epoch 273/2500\n",
            "9/9 [==============================] - 0s 4ms/step - loss: 0.1952 - accuracy: 0.9321\n",
            "Epoch 274/2500\n",
            "9/9 [==============================] - 0s 5ms/step - loss: 0.1937 - accuracy: 0.9286\n",
            "Epoch 275/2500\n",
            "9/9 [==============================] - 0s 5ms/step - loss: 0.1941 - accuracy: 0.9286\n",
            "Epoch 276/2500\n",
            "9/9 [==============================] - 0s 4ms/step - loss: 0.1896 - accuracy: 0.9321\n",
            "Epoch 277/2500\n",
            "9/9 [==============================] - 0s 4ms/step - loss: 0.1876 - accuracy: 0.9321\n",
            "Epoch 278/2500\n",
            "9/9 [==============================] - 0s 4ms/step - loss: 0.1920 - accuracy: 0.9286\n",
            "Epoch 279/2500\n",
            "9/9 [==============================] - 0s 4ms/step - loss: 0.2188 - accuracy: 0.9143\n",
            "Epoch 280/2500\n",
            "9/9 [==============================] - 0s 4ms/step - loss: 0.2233 - accuracy: 0.9107\n",
            "Epoch 281/2500\n",
            "9/9 [==============================] - 0s 4ms/step - loss: 0.2067 - accuracy: 0.9107\n",
            "Epoch 282/2500\n",
            "9/9 [==============================] - 0s 4ms/step - loss: 0.2164 - accuracy: 0.9214\n",
            "Epoch 283/2500\n",
            "9/9 [==============================] - 0s 4ms/step - loss: 0.2120 - accuracy: 0.9250\n",
            "Epoch 284/2500\n",
            "9/9 [==============================] - 0s 5ms/step - loss: 0.1922 - accuracy: 0.9179\n",
            "Epoch 285/2500\n",
            "9/9 [==============================] - 0s 4ms/step - loss: 0.1993 - accuracy: 0.9214\n",
            "Epoch 286/2500\n",
            "9/9 [==============================] - 0s 4ms/step - loss: 0.1981 - accuracy: 0.9250\n",
            "Epoch 287/2500\n",
            "9/9 [==============================] - 0s 4ms/step - loss: 0.1939 - accuracy: 0.9250\n",
            "Epoch 288/2500\n",
            "9/9 [==============================] - 0s 4ms/step - loss: 0.1917 - accuracy: 0.9250\n",
            "Epoch 289/2500\n",
            "9/9 [==============================] - 0s 5ms/step - loss: 0.1891 - accuracy: 0.9214\n",
            "Epoch 290/2500\n",
            "9/9 [==============================] - 0s 4ms/step - loss: 0.1935 - accuracy: 0.9286\n",
            "Epoch 291/2500\n",
            "9/9 [==============================] - 0s 4ms/step - loss: 0.1955 - accuracy: 0.9286\n",
            "Epoch 292/2500\n",
            "9/9 [==============================] - 0s 4ms/step - loss: 0.1930 - accuracy: 0.9286\n",
            "Epoch 293/2500\n",
            "9/9 [==============================] - 0s 4ms/step - loss: 0.2037 - accuracy: 0.9250\n",
            "Epoch 294/2500\n",
            "9/9 [==============================] - 0s 5ms/step - loss: 0.1926 - accuracy: 0.9214\n",
            "Epoch 295/2500\n",
            "9/9 [==============================] - 0s 4ms/step - loss: 0.1849 - accuracy: 0.9286\n",
            "Epoch 296/2500\n",
            "9/9 [==============================] - 0s 5ms/step - loss: 0.1889 - accuracy: 0.9250\n",
            "Epoch 297/2500\n",
            "9/9 [==============================] - 0s 4ms/step - loss: 0.1873 - accuracy: 0.9250\n",
            "Epoch 298/2500\n",
            "9/9 [==============================] - 0s 4ms/step - loss: 0.1900 - accuracy: 0.9286\n",
            "Epoch 299/2500\n",
            "9/9 [==============================] - 0s 4ms/step - loss: 0.1860 - accuracy: 0.9286\n",
            "Epoch 300/2500\n",
            "9/9 [==============================] - 0s 4ms/step - loss: 0.1912 - accuracy: 0.9214\n",
            "Epoch 301/2500\n",
            "9/9 [==============================] - 0s 4ms/step - loss: 0.1881 - accuracy: 0.9286\n",
            "Epoch 302/2500\n",
            "9/9 [==============================] - 0s 4ms/step - loss: 0.1891 - accuracy: 0.9286\n",
            "Epoch 303/2500\n",
            "9/9 [==============================] - 0s 4ms/step - loss: 0.1842 - accuracy: 0.9321\n",
            "Epoch 304/2500\n",
            "9/9 [==============================] - 0s 4ms/step - loss: 0.1851 - accuracy: 0.9321\n",
            "Epoch 305/2500\n",
            "9/9 [==============================] - 0s 4ms/step - loss: 0.1950 - accuracy: 0.9321\n",
            "Epoch 306/2500\n",
            "9/9 [==============================] - 0s 4ms/step - loss: 0.2048 - accuracy: 0.9143\n",
            "Epoch 307/2500\n",
            "9/9 [==============================] - 0s 4ms/step - loss: 0.1950 - accuracy: 0.9250\n",
            "Epoch 308/2500\n",
            "9/9 [==============================] - 0s 4ms/step - loss: 0.1923 - accuracy: 0.9214\n",
            "Epoch 309/2500\n",
            "9/9 [==============================] - 0s 5ms/step - loss: 0.1989 - accuracy: 0.9214\n",
            "Epoch 310/2500\n",
            "9/9 [==============================] - 0s 4ms/step - loss: 0.1828 - accuracy: 0.9286\n",
            "Epoch 311/2500\n",
            "9/9 [==============================] - 0s 4ms/step - loss: 0.1813 - accuracy: 0.9286\n",
            "Epoch 312/2500\n",
            "9/9 [==============================] - 0s 4ms/step - loss: 0.1869 - accuracy: 0.9250\n",
            "Epoch 313/2500\n",
            "9/9 [==============================] - 0s 4ms/step - loss: 0.2009 - accuracy: 0.9214\n",
            "Epoch 314/2500\n",
            "9/9 [==============================] - 0s 4ms/step - loss: 0.1850 - accuracy: 0.9286\n",
            "Epoch 315/2500\n",
            "9/9 [==============================] - 0s 4ms/step - loss: 0.1966 - accuracy: 0.9250\n",
            "Epoch 316/2500\n",
            "9/9 [==============================] - 0s 4ms/step - loss: 0.1828 - accuracy: 0.9321\n",
            "Epoch 317/2500\n",
            "9/9 [==============================] - 0s 4ms/step - loss: 0.1848 - accuracy: 0.9321\n",
            "Epoch 318/2500\n",
            "9/9 [==============================] - 0s 5ms/step - loss: 0.1834 - accuracy: 0.9286\n",
            "Epoch 319/2500\n",
            "9/9 [==============================] - 0s 5ms/step - loss: 0.1914 - accuracy: 0.9321\n",
            "Epoch 320/2500\n",
            "9/9 [==============================] - 0s 4ms/step - loss: 0.2007 - accuracy: 0.9179\n",
            "Epoch 321/2500\n",
            "9/9 [==============================] - 0s 5ms/step - loss: 0.1941 - accuracy: 0.9250\n",
            "Epoch 322/2500\n",
            "9/9 [==============================] - 0s 5ms/step - loss: 0.1947 - accuracy: 0.9179\n",
            "Epoch 323/2500\n",
            "9/9 [==============================] - 0s 4ms/step - loss: 0.1970 - accuracy: 0.9286\n",
            "Epoch 324/2500\n",
            "9/9 [==============================] - 0s 4ms/step - loss: 0.2026 - accuracy: 0.9143\n",
            "Epoch 325/2500\n",
            "9/9 [==============================] - 0s 4ms/step - loss: 0.1808 - accuracy: 0.9321\n",
            "Epoch 326/2500\n",
            "9/9 [==============================] - 0s 5ms/step - loss: 0.1945 - accuracy: 0.9286\n",
            "Epoch 327/2500\n",
            "9/9 [==============================] - 0s 5ms/step - loss: 0.2136 - accuracy: 0.9250\n",
            "Epoch 328/2500\n",
            "9/9 [==============================] - 0s 4ms/step - loss: 0.1996 - accuracy: 0.9250\n",
            "Epoch 329/2500\n",
            "9/9 [==============================] - 0s 4ms/step - loss: 0.2146 - accuracy: 0.9107\n",
            "Epoch 330/2500\n",
            "9/9 [==============================] - 0s 4ms/step - loss: 0.2041 - accuracy: 0.9143\n",
            "Epoch 331/2500\n",
            "9/9 [==============================] - 0s 5ms/step - loss: 0.1925 - accuracy: 0.9214\n",
            "Epoch 332/2500\n",
            "9/9 [==============================] - 0s 4ms/step - loss: 0.1978 - accuracy: 0.9214\n",
            "Epoch 333/2500\n",
            "9/9 [==============================] - 0s 4ms/step - loss: 0.1996 - accuracy: 0.9250\n",
            "Epoch 334/2500\n",
            "9/9 [==============================] - 0s 4ms/step - loss: 0.2027 - accuracy: 0.9214\n",
            "Epoch 335/2500\n",
            "9/9 [==============================] - 0s 4ms/step - loss: 0.1772 - accuracy: 0.9321\n",
            "Epoch 336/2500\n",
            "9/9 [==============================] - 0s 4ms/step - loss: 0.1802 - accuracy: 0.9321\n",
            "Epoch 337/2500\n",
            "9/9 [==============================] - 0s 4ms/step - loss: 0.1781 - accuracy: 0.9357\n",
            "Epoch 338/2500\n",
            "9/9 [==============================] - 0s 5ms/step - loss: 0.1760 - accuracy: 0.9357\n",
            "Epoch 339/2500\n",
            "9/9 [==============================] - 0s 5ms/step - loss: 0.1773 - accuracy: 0.9357\n",
            "Epoch 340/2500\n",
            "9/9 [==============================] - 0s 6ms/step - loss: 0.1825 - accuracy: 0.9286\n",
            "Epoch 341/2500\n",
            "9/9 [==============================] - 0s 4ms/step - loss: 0.1871 - accuracy: 0.9250\n",
            "Epoch 342/2500\n",
            "9/9 [==============================] - 0s 4ms/step - loss: 0.1860 - accuracy: 0.9214\n",
            "Epoch 343/2500\n",
            "9/9 [==============================] - 0s 4ms/step - loss: 0.1834 - accuracy: 0.9179\n",
            "Epoch 344/2500\n",
            "9/9 [==============================] - 0s 5ms/step - loss: 0.1747 - accuracy: 0.9321\n",
            "Epoch 345/2500\n",
            "9/9 [==============================] - 0s 4ms/step - loss: 0.1780 - accuracy: 0.9321\n",
            "Epoch 346/2500\n",
            "9/9 [==============================] - 0s 4ms/step - loss: 0.1891 - accuracy: 0.9214\n",
            "Epoch 347/2500\n",
            "9/9 [==============================] - 0s 4ms/step - loss: 0.1823 - accuracy: 0.9321\n",
            "Epoch 348/2500\n",
            "9/9 [==============================] - 0s 4ms/step - loss: 0.1757 - accuracy: 0.9357\n",
            "Epoch 349/2500\n",
            "9/9 [==============================] - 0s 4ms/step - loss: 0.1738 - accuracy: 0.9357\n",
            "Epoch 350/2500\n",
            "9/9 [==============================] - 0s 4ms/step - loss: 0.1767 - accuracy: 0.9286\n",
            "Epoch 351/2500\n",
            "9/9 [==============================] - 0s 4ms/step - loss: 0.1804 - accuracy: 0.9321\n",
            "Epoch 352/2500\n",
            "9/9 [==============================] - 0s 4ms/step - loss: 0.1867 - accuracy: 0.9286\n",
            "Epoch 353/2500\n",
            "9/9 [==============================] - 0s 4ms/step - loss: 0.1808 - accuracy: 0.9286\n",
            "Epoch 354/2500\n",
            "9/9 [==============================] - 0s 4ms/step - loss: 0.1855 - accuracy: 0.9357\n",
            "Epoch 355/2500\n",
            "9/9 [==============================] - 0s 5ms/step - loss: 0.1703 - accuracy: 0.9321\n",
            "Epoch 356/2500\n",
            "9/9 [==============================] - 0s 5ms/step - loss: 0.1847 - accuracy: 0.9357\n",
            "Epoch 357/2500\n",
            "9/9 [==============================] - 0s 5ms/step - loss: 0.1677 - accuracy: 0.9357\n",
            "Epoch 358/2500\n",
            "9/9 [==============================] - 0s 4ms/step - loss: 0.1718 - accuracy: 0.9357\n",
            "Epoch 359/2500\n",
            "9/9 [==============================] - 0s 4ms/step - loss: 0.1850 - accuracy: 0.9286\n",
            "Epoch 360/2500\n",
            "9/9 [==============================] - 0s 4ms/step - loss: 0.1730 - accuracy: 0.9286\n",
            "Epoch 361/2500\n",
            "9/9 [==============================] - 0s 6ms/step - loss: 0.1741 - accuracy: 0.9321\n",
            "Epoch 362/2500\n",
            "9/9 [==============================] - 0s 4ms/step - loss: 0.1861 - accuracy: 0.9321\n",
            "Epoch 363/2500\n",
            "9/9 [==============================] - 0s 4ms/step - loss: 0.1966 - accuracy: 0.9250\n",
            "Epoch 364/2500\n",
            "9/9 [==============================] - 0s 4ms/step - loss: 0.1847 - accuracy: 0.9250\n",
            "Epoch 365/2500\n",
            "9/9 [==============================] - 0s 5ms/step - loss: 0.1721 - accuracy: 0.9321\n",
            "Epoch 366/2500\n",
            "9/9 [==============================] - 0s 5ms/step - loss: 0.1810 - accuracy: 0.9286\n",
            "Epoch 367/2500\n",
            "9/9 [==============================] - 0s 4ms/step - loss: 0.1700 - accuracy: 0.9321\n",
            "Epoch 368/2500\n",
            "9/9 [==============================] - 0s 4ms/step - loss: 0.1883 - accuracy: 0.9250\n",
            "Epoch 369/2500\n",
            "9/9 [==============================] - 0s 4ms/step - loss: 0.1745 - accuracy: 0.9286\n",
            "Epoch 370/2500\n",
            "9/9 [==============================] - 0s 5ms/step - loss: 0.1857 - accuracy: 0.9357\n",
            "Epoch 371/2500\n",
            "9/9 [==============================] - 0s 5ms/step - loss: 0.1814 - accuracy: 0.9286\n",
            "Epoch 372/2500\n",
            "9/9 [==============================] - 0s 4ms/step - loss: 0.2074 - accuracy: 0.9179\n",
            "Epoch 373/2500\n",
            "9/9 [==============================] - 0s 4ms/step - loss: 0.1839 - accuracy: 0.9286\n",
            "Epoch 374/2500\n",
            "9/9 [==============================] - 0s 4ms/step - loss: 0.1774 - accuracy: 0.9321\n",
            "Epoch 375/2500\n",
            "9/9 [==============================] - 0s 5ms/step - loss: 0.1771 - accuracy: 0.9321\n",
            "Epoch 376/2500\n",
            "9/9 [==============================] - 0s 5ms/step - loss: 0.1784 - accuracy: 0.9393\n",
            "Epoch 377/2500\n",
            "9/9 [==============================] - 0s 4ms/step - loss: 0.1742 - accuracy: 0.9250\n",
            "Epoch 378/2500\n",
            "9/9 [==============================] - 0s 4ms/step - loss: 0.1702 - accuracy: 0.9286\n",
            "Epoch 379/2500\n",
            "9/9 [==============================] - 0s 5ms/step - loss: 0.1753 - accuracy: 0.9357\n",
            "Epoch 380/2500\n",
            "9/9 [==============================] - 0s 5ms/step - loss: 0.1700 - accuracy: 0.9357\n",
            "Epoch 381/2500\n",
            "9/9 [==============================] - 0s 5ms/step - loss: 0.1699 - accuracy: 0.9286\n",
            "Epoch 382/2500\n",
            "9/9 [==============================] - 0s 5ms/step - loss: 0.1894 - accuracy: 0.9214\n",
            "Epoch 383/2500\n",
            "9/9 [==============================] - 0s 5ms/step - loss: 0.1760 - accuracy: 0.9250\n",
            "Epoch 384/2500\n",
            "9/9 [==============================] - 0s 5ms/step - loss: 0.1658 - accuracy: 0.9393\n",
            "Epoch 385/2500\n",
            "9/9 [==============================] - 0s 4ms/step - loss: 0.1678 - accuracy: 0.9321\n",
            "Epoch 386/2500\n",
            "9/9 [==============================] - 0s 4ms/step - loss: 0.1654 - accuracy: 0.9321\n",
            "Epoch 387/2500\n",
            "9/9 [==============================] - 0s 4ms/step - loss: 0.1690 - accuracy: 0.9393\n",
            "Epoch 388/2500\n",
            "9/9 [==============================] - 0s 5ms/step - loss: 0.1643 - accuracy: 0.9393\n",
            "Epoch 389/2500\n",
            "9/9 [==============================] - 0s 4ms/step - loss: 0.1677 - accuracy: 0.9393\n",
            "Epoch 390/2500\n",
            "9/9 [==============================] - 0s 4ms/step - loss: 0.1652 - accuracy: 0.9393\n",
            "Epoch 391/2500\n",
            "9/9 [==============================] - 0s 5ms/step - loss: 0.1636 - accuracy: 0.9357\n",
            "Epoch 392/2500\n",
            "9/9 [==============================] - 0s 5ms/step - loss: 0.1726 - accuracy: 0.9214\n",
            "Epoch 393/2500\n",
            "9/9 [==============================] - 0s 5ms/step - loss: 0.1906 - accuracy: 0.9107\n",
            "Epoch 394/2500\n",
            "9/9 [==============================] - 0s 5ms/step - loss: 0.1838 - accuracy: 0.9321\n",
            "Epoch 395/2500\n",
            "9/9 [==============================] - 0s 5ms/step - loss: 0.1668 - accuracy: 0.9393\n",
            "Epoch 396/2500\n",
            "9/9 [==============================] - 0s 4ms/step - loss: 0.1686 - accuracy: 0.9357\n",
            "Epoch 397/2500\n",
            "9/9 [==============================] - 0s 4ms/step - loss: 0.1722 - accuracy: 0.9321\n",
            "Epoch 398/2500\n",
            "9/9 [==============================] - 0s 5ms/step - loss: 0.1652 - accuracy: 0.9393\n",
            "Epoch 399/2500\n",
            "9/9 [==============================] - 0s 4ms/step - loss: 0.1736 - accuracy: 0.9321\n",
            "Epoch 400/2500\n",
            "9/9 [==============================] - 0s 4ms/step - loss: 0.1771 - accuracy: 0.9357\n",
            "Epoch 401/2500\n",
            "9/9 [==============================] - 0s 4ms/step - loss: 0.1788 - accuracy: 0.9286\n",
            "Epoch 402/2500\n",
            "9/9 [==============================] - 0s 5ms/step - loss: 0.1706 - accuracy: 0.9286\n",
            "Epoch 403/2500\n",
            "9/9 [==============================] - 0s 5ms/step - loss: 0.1699 - accuracy: 0.9357\n",
            "Epoch 404/2500\n",
            "9/9 [==============================] - 0s 5ms/step - loss: 0.1849 - accuracy: 0.9143\n",
            "Epoch 405/2500\n",
            "9/9 [==============================] - 0s 4ms/step - loss: 0.1928 - accuracy: 0.9143\n",
            "Epoch 406/2500\n",
            "9/9 [==============================] - 0s 5ms/step - loss: 0.1924 - accuracy: 0.9286\n",
            "Epoch 407/2500\n",
            "9/9 [==============================] - 0s 4ms/step - loss: 0.1748 - accuracy: 0.9286\n",
            "Epoch 408/2500\n",
            "9/9 [==============================] - 0s 5ms/step - loss: 0.1741 - accuracy: 0.9321\n",
            "Epoch 409/2500\n",
            "9/9 [==============================] - 0s 4ms/step - loss: 0.1673 - accuracy: 0.9464\n",
            "Epoch 410/2500\n",
            "9/9 [==============================] - 0s 5ms/step - loss: 0.1697 - accuracy: 0.9321\n",
            "Epoch 411/2500\n",
            "9/9 [==============================] - 0s 4ms/step - loss: 0.1646 - accuracy: 0.9429\n",
            "Epoch 412/2500\n",
            "9/9 [==============================] - 0s 4ms/step - loss: 0.1681 - accuracy: 0.9429\n",
            "Epoch 413/2500\n",
            "9/9 [==============================] - 0s 5ms/step - loss: 0.1651 - accuracy: 0.9321\n",
            "Epoch 414/2500\n",
            "9/9 [==============================] - 0s 5ms/step - loss: 0.1676 - accuracy: 0.9393\n",
            "Epoch 415/2500\n",
            "9/9 [==============================] - 0s 5ms/step - loss: 0.1594 - accuracy: 0.9393\n",
            "Epoch 416/2500\n",
            "9/9 [==============================] - 0s 5ms/step - loss: 0.1675 - accuracy: 0.9357\n",
            "Epoch 417/2500\n",
            "9/9 [==============================] - 0s 5ms/step - loss: 0.1679 - accuracy: 0.9357\n",
            "Epoch 418/2500\n",
            "9/9 [==============================] - 0s 5ms/step - loss: 0.1606 - accuracy: 0.9429\n",
            "Epoch 419/2500\n",
            "9/9 [==============================] - 0s 4ms/step - loss: 0.1715 - accuracy: 0.9357\n",
            "Epoch 420/2500\n",
            "9/9 [==============================] - 0s 4ms/step - loss: 0.1655 - accuracy: 0.9357\n",
            "Epoch 421/2500\n",
            "9/9 [==============================] - 0s 4ms/step - loss: 0.1641 - accuracy: 0.9321\n",
            "Epoch 422/2500\n",
            "9/9 [==============================] - 0s 4ms/step - loss: 0.1685 - accuracy: 0.9321\n",
            "Epoch 423/2500\n",
            "9/9 [==============================] - 0s 4ms/step - loss: 0.1586 - accuracy: 0.9500\n",
            "Epoch 424/2500\n",
            "9/9 [==============================] - 0s 5ms/step - loss: 0.1675 - accuracy: 0.9357\n",
            "Epoch 425/2500\n",
            "9/9 [==============================] - 0s 4ms/step - loss: 0.1595 - accuracy: 0.9464\n",
            "Epoch 426/2500\n",
            "9/9 [==============================] - 0s 4ms/step - loss: 0.1688 - accuracy: 0.9321\n",
            "Epoch 427/2500\n",
            "9/9 [==============================] - 0s 4ms/step - loss: 0.1660 - accuracy: 0.9464\n",
            "Epoch 428/2500\n",
            "9/9 [==============================] - 0s 4ms/step - loss: 0.1628 - accuracy: 0.9321\n",
            "Epoch 429/2500\n",
            "9/9 [==============================] - 0s 4ms/step - loss: 0.1567 - accuracy: 0.9429\n",
            "Epoch 430/2500\n",
            "9/9 [==============================] - 0s 4ms/step - loss: 0.1536 - accuracy: 0.9464\n",
            "Epoch 431/2500\n",
            "9/9 [==============================] - 0s 5ms/step - loss: 0.1556 - accuracy: 0.9393\n",
            "Epoch 432/2500\n",
            "9/9 [==============================] - 0s 5ms/step - loss: 0.1627 - accuracy: 0.9357\n",
            "Epoch 433/2500\n",
            "9/9 [==============================] - 0s 7ms/step - loss: 0.1733 - accuracy: 0.9429\n",
            "Epoch 434/2500\n",
            "9/9 [==============================] - 0s 5ms/step - loss: 0.2096 - accuracy: 0.9107\n",
            "Epoch 435/2500\n",
            "9/9 [==============================] - 0s 5ms/step - loss: 0.2411 - accuracy: 0.9036\n",
            "Epoch 436/2500\n",
            "9/9 [==============================] - 0s 5ms/step - loss: 0.1952 - accuracy: 0.9214\n",
            "Epoch 437/2500\n",
            "9/9 [==============================] - 0s 5ms/step - loss: 0.1782 - accuracy: 0.9321\n",
            "Epoch 438/2500\n",
            "9/9 [==============================] - 0s 4ms/step - loss: 0.1598 - accuracy: 0.9393\n",
            "Epoch 439/2500\n",
            "9/9 [==============================] - 0s 5ms/step - loss: 0.1609 - accuracy: 0.9500\n",
            "Epoch 440/2500\n",
            "9/9 [==============================] - 0s 4ms/step - loss: 0.1554 - accuracy: 0.9429\n",
            "Epoch 441/2500\n",
            "9/9 [==============================] - 0s 4ms/step - loss: 0.1580 - accuracy: 0.9357\n",
            "Epoch 442/2500\n",
            "9/9 [==============================] - 0s 5ms/step - loss: 0.1549 - accuracy: 0.9464\n",
            "Epoch 443/2500\n",
            "9/9 [==============================] - 0s 5ms/step - loss: 0.1595 - accuracy: 0.9393\n",
            "Epoch 444/2500\n",
            "9/9 [==============================] - 0s 5ms/step - loss: 0.1680 - accuracy: 0.9286\n",
            "Epoch 445/2500\n",
            "9/9 [==============================] - 0s 4ms/step - loss: 0.1640 - accuracy: 0.9393\n",
            "Epoch 446/2500\n",
            "9/9 [==============================] - 0s 5ms/step - loss: 0.1589 - accuracy: 0.9429\n",
            "Epoch 447/2500\n",
            "9/9 [==============================] - 0s 6ms/step - loss: 0.1586 - accuracy: 0.9464\n",
            "Epoch 448/2500\n",
            "9/9 [==============================] - 0s 4ms/step - loss: 0.1627 - accuracy: 0.9286\n",
            "Epoch 449/2500\n",
            "9/9 [==============================] - 0s 4ms/step - loss: 0.1582 - accuracy: 0.9429\n",
            "Epoch 450/2500\n",
            "9/9 [==============================] - 0s 4ms/step - loss: 0.1551 - accuracy: 0.9429\n",
            "Epoch 451/2500\n",
            "9/9 [==============================] - 0s 5ms/step - loss: 0.1574 - accuracy: 0.9393\n",
            "Epoch 452/2500\n",
            "9/9 [==============================] - 0s 4ms/step - loss: 0.1583 - accuracy: 0.9393\n",
            "Epoch 453/2500\n",
            "9/9 [==============================] - 0s 4ms/step - loss: 0.1563 - accuracy: 0.9464\n",
            "Epoch 454/2500\n",
            "9/9 [==============================] - 0s 4ms/step - loss: 0.1648 - accuracy: 0.9357\n",
            "Epoch 455/2500\n",
            "9/9 [==============================] - 0s 5ms/step - loss: 0.1748 - accuracy: 0.9393\n",
            "Epoch 456/2500\n",
            "9/9 [==============================] - 0s 5ms/step - loss: 0.1516 - accuracy: 0.9464\n",
            "Epoch 457/2500\n",
            "9/9 [==============================] - 0s 5ms/step - loss: 0.1570 - accuracy: 0.9464\n",
            "Epoch 458/2500\n",
            "9/9 [==============================] - 0s 4ms/step - loss: 0.1598 - accuracy: 0.9393\n",
            "Epoch 459/2500\n",
            "9/9 [==============================] - 0s 5ms/step - loss: 0.1517 - accuracy: 0.9464\n",
            "Epoch 460/2500\n",
            "9/9 [==============================] - 0s 5ms/step - loss: 0.1460 - accuracy: 0.9500\n",
            "Epoch 461/2500\n",
            "9/9 [==============================] - 0s 5ms/step - loss: 0.1599 - accuracy: 0.9464\n",
            "Epoch 462/2500\n",
            "9/9 [==============================] - 0s 4ms/step - loss: 0.1479 - accuracy: 0.9464\n",
            "Epoch 463/2500\n",
            "9/9 [==============================] - 0s 4ms/step - loss: 0.1522 - accuracy: 0.9429\n",
            "Epoch 464/2500\n",
            "9/9 [==============================] - 0s 4ms/step - loss: 0.1515 - accuracy: 0.9357\n",
            "Epoch 465/2500\n",
            "9/9 [==============================] - 0s 4ms/step - loss: 0.1575 - accuracy: 0.9321\n",
            "Epoch 466/2500\n",
            "9/9 [==============================] - 0s 5ms/step - loss: 0.1521 - accuracy: 0.9429\n",
            "Epoch 467/2500\n",
            "9/9 [==============================] - 0s 5ms/step - loss: 0.1469 - accuracy: 0.9500\n",
            "Epoch 468/2500\n",
            "9/9 [==============================] - 0s 4ms/step - loss: 0.1531 - accuracy: 0.9500\n",
            "Epoch 469/2500\n",
            "9/9 [==============================] - 0s 5ms/step - loss: 0.1454 - accuracy: 0.9536\n",
            "\n",
            "Reached 97% accuracy so cancelling training!\n"
          ],
          "name": "stdout"
        },
        {
          "output_type": "execute_result",
          "data": {
            "text/plain": [
              "<tensorflow.python.keras.callbacks.History at 0x7ff0fed4dd10>"
            ]
          },
          "metadata": {
            "tags": []
          },
          "execution_count": 86
        }
      ]
    },
    {
      "cell_type": "code",
      "metadata": {
        "colab": {
          "base_uri": "https://localhost:8080/"
        },
        "id": "b0ZvS5WUCheL",
        "outputId": "0b6ec286-1c0a-492f-af8d-f4d9402e3cf1"
      },
      "source": [
        "print(\"Accuracy on test data is \",model.evaluate(X_test, y_test))\n",
        "print(\"Predicted value of ytest[4] is \",np.argmax(y_predicted[4]))\n",
        "print(\"Actual Predicted value is:- \",y_test[4])\n"
      ],
      "execution_count": null,
      "outputs": [
        {
          "output_type": "stream",
          "text": [
            "4/4 [==============================] - 0s 3ms/step - loss: 0.3161 - accuracy: 0.9000\n",
            "Accuracy on test data is  [0.31606197357177734, 0.8999999761581421]\n",
            "Predicted value of ytest[4] is  0\n",
            "Actual Predicted value is:-  0\n"
          ],
          "name": "stdout"
        }
      ]
    },
    {
      "cell_type": "code",
      "metadata": {
        "id": "mOwB-ny-hTYs"
      },
      "source": [
        ""
      ],
      "execution_count": null,
      "outputs": []
    },
    {
      "cell_type": "code",
      "metadata": {
        "id": "0IsDTvMChTd8"
      },
      "source": [
        ""
      ],
      "execution_count": null,
      "outputs": []
    }
  ]
}